{
 "cells": [
  {
   "cell_type": "code",
   "execution_count": 1,
   "id": "5e7e05b1-9e26-4b3e-8cf7-2c335354fae4",
   "metadata": {},
   "outputs": [],
   "source": [
    "import numpy as np\n",
    "import matplotlib.pyplot as plt\n",
    "import pandas as pd\n",
    "import pybtex\n",
    "from pybtex.plugin import find_plugin\n",
    "from pybtex.database import parse_string\n",
    "from pybtex.database import parse_file"
   ]
  },
  {
   "cell_type": "markdown",
   "id": "0d28adbe-6182-40b3-80c2-457ae9fa48c9",
   "metadata": {},
   "source": [
    "# Carregando os Dados das Bases:"
   ]
  },
  {
   "cell_type": "markdown",
   "id": "d94d6047-2758-4d6b-809f-9a535fab89ce",
   "metadata": {},
   "source": [
    "### IEEE XPLORE:"
   ]
  },
  {
   "cell_type": "code",
   "execution_count": 2,
   "id": "62d69414-d66f-44e2-86cc-db0cfaf5a090",
   "metadata": {},
   "outputs": [],
   "source": [
    "ieee_xplore_bib_data = parse_file(\"bibtexfiles\\\\ieee_articles.bib\")\n",
    "iee_publications = len(ieee_xplore_bib_data.entries)"
   ]
  },
  {
   "cell_type": "markdown",
   "id": "465cf706-e19e-45e6-88b5-8516c4e14631",
   "metadata": {},
   "source": [
    "### ScienceDirect:"
   ]
  },
  {
   "cell_type": "code",
   "execution_count": 3,
   "id": "f2e0440d-82c1-47c2-8be7-58e79889efc0",
   "metadata": {},
   "outputs": [],
   "source": [
    "sciencedirect_bib_data = parse_file(\"bibtexfiles\\\\sciencedirect_articles.bib\")\n",
    "sciencedirect_publications = len(sciencedirect_bib_data.entries)"
   ]
  },
  {
   "cell_type": "markdown",
   "id": "6fe1447a-704d-4259-bd81-4599ccbd1926",
   "metadata": {},
   "source": [
    "### MDPI:"
   ]
  },
  {
   "cell_type": "code",
   "execution_count": 4,
   "id": "cb663c2f-2b74-44b7-aab0-652751f048b2",
   "metadata": {},
   "outputs": [],
   "source": [
    "mdpi_bib_data = parse_file(\"bibtexfiles\\\\mdpi_articles.bib\")\n",
    "mdpi_publications = len(mdpi_bib_data.entries)"
   ]
  },
  {
   "cell_type": "markdown",
   "id": "b07b4450-81f1-455c-b912-4aad1bad6097",
   "metadata": {},
   "source": [
    "## Publicações nas bases IEEE Xplore, ScienceDirect e MDPI:"
   ]
  },
  {
   "cell_type": "code",
   "execution_count": 73,
   "id": "28bc2a11-4688-4967-9dd0-f57f0a75df81",
   "metadata": {},
   "outputs": [
    {
     "data": {
      "image/png": "[encoded data removed]",
      "text/plain": [
       "<Figure size 640x480 with 1 Axes>"
      ]
     },
     "metadata": {},
     "output_type": "display_data"
    }
   ],
   "source": [
    "total_publications = [iee_publications, sciencedirect_publications, mdpi_publications]\n",
    "bases = ['IEEE Xplore', 'ScienceDirect', 'MDPI']\n",
    "colors = ['skyblue', 'orange','lightgreen']\n",
    "plt.bar(range(len(bases)), total_publications, color=colors)\n",
    "plt.title(\"Publicações por bases\")\n",
    "plt.ylabel(\"N° de publicações\")\n",
    "plt.xticks(range(len(bases)), bases)\n",
    "for i, value in enumerate(total_publications):\n",
    "    plt.text(i, value+.2, str(value), ha='center')\n",
    "plt.savefig(\"publicacoes_por_bases.png\")\n",
    "plt.show()"
   ]
  },
  {
   "cell_type": "markdown",
   "id": "0087d40e-8fe7-407f-a76e-c3360cc1d7d1",
   "metadata": {},
   "source": [
    "## Artigos Obtidos das Bases:"
   ]
  },
  {
   "cell_type": "code",
   "execution_count": 8,
   "id": "f49cd441-72e7-4381-b02f-eb084b8d030c",
   "metadata": {},
   "outputs": [],
   "source": [
    "article_selection = pd.read_csv(\n",
    "        \"articles_table/article_selection.csv\",\n",
    "        delimiter=';',        \n",
    "        quotechar='\"',        \n",
    "        encoding='utf-8'      \n",
    "    )"
   ]
  },
  {
   "cell_type": "code",
   "execution_count": 67,
   "id": "9ff96b44-3f16-4d0e-8ac8-90bc0173e7c5",
   "metadata": {},
   "outputs": [
    {
     "data": {
      "text/html": [
       "<div>\n",
       "<style scoped>\n",
       "    .dataframe tbody tr th:only-of-type {\n",
       "        vertical-align: middle;\n",
       "    }\n",
       "\n",
       "    .dataframe tbody tr th {\n",
       "        vertical-align: top;\n",
       "    }\n",
       "\n",
       "    .dataframe thead th {\n",
       "        text-align: right;\n",
       "    }\n",
       "</style>\n",
       "<table border=\"1\" class=\"dataframe\">\n",
       "  <thead>\n",
       "    <tr style=\"text-align: right;\">\n",
       "      <th></th>\n",
       "      <th>Article Title</th>\n",
       "      <th>Author Keywords</th>\n",
       "      <th>Abstract</th>\n",
       "      <th>Authors</th>\n",
       "      <th>Author Full Names</th>\n",
       "      <th>Publication Year</th>\n",
       "      <th>Publisher</th>\n",
       "      <th>Times Cited</th>\n",
       "    </tr>\n",
       "  </thead>\n",
       "  <tbody>\n",
       "    <tr>\n",
       "      <th>0</th>\n",
       "      <td>A resilient Trust Management framework towards...</td>\n",
       "      <td>Social Internet of Things; Trust management; S...</td>\n",
       "      <td>As a huge number of heterogeneous smart things...</td>\n",
       "      <td>Magdich, R; Jemal, H; Ben Ayed, M</td>\n",
       "      <td>Magdich, Rim; Jemal, Hanen; Ben Ayed, Mounir</td>\n",
       "      <td>2022</td>\n",
       "      <td>ELSEVIER</td>\n",
       "      <td>20</td>\n",
       "    </tr>\n",
       "    <tr>\n",
       "      <th>1</th>\n",
       "      <td>A social smart city for public and private mob...</td>\n",
       "      <td>Smart city; Social IoT; Heterogeneous networks...</td>\n",
       "      <td>Nowadays, smart city paradigm plays a primary ...</td>\n",
       "      <td>Anedda, M; Fadda, M; Girau, R; Pau, G; Giusto, D</td>\n",
       "      <td>Anedda, Matteo; Fadda, Mauro; Girau, Roberto; ...</td>\n",
       "      <td>2023</td>\n",
       "      <td>ELSEVIER</td>\n",
       "      <td>22</td>\n",
       "    </tr>\n",
       "    <tr>\n",
       "      <th>2</th>\n",
       "      <td>Deep neural network for text anomaly detection...</td>\n",
       "      <td>Anomaly detection; Text mining; Social Interne...</td>\n",
       "      <td>Unsupervised textual anomaly detection, which ...</td>\n",
       "      <td>Mu, J; Zhang, XC; Li, YG; Guo, J</td>\n",
       "      <td>Mu, Jie; Zhang, Xianchao; Li, Yuangang; Guo, Jun</td>\n",
       "      <td>2021</td>\n",
       "      <td>ELSEVIER</td>\n",
       "      <td>8</td>\n",
       "    </tr>\n",
       "    <tr>\n",
       "      <th>3</th>\n",
       "      <td>Deep Q-network-based heuristic intrusion detec...</td>\n",
       "      <td>Social Internet of Things; Zero-day attacks; I...</td>\n",
       "      <td>How to process and classify zero-day attacks d...</td>\n",
       "      <td>Shen, SG; Cai, CP; Li, ZW; Shen, YZ; Wu, GW; Y...</td>\n",
       "      <td>Shen, Shigen; Cai, Chenpeng; Li, Zhenwei; Shen...</td>\n",
       "      <td>2024</td>\n",
       "      <td>ELSEVIER</td>\n",
       "      <td>16</td>\n",
       "    </tr>\n",
       "    <tr>\n",
       "      <th>4</th>\n",
       "      <td>Edge-aided control dynamics for information di...</td>\n",
       "      <td>Social Internet of Things; Information diffusi...</td>\n",
       "      <td>Information diffusion in social Internet of Th...</td>\n",
       "      <td>Yi, YX; Zhang, ZF; Yang, LT; Wang, XK; Gan, CQ</td>\n",
       "      <td>Yi, Yinxue; Zhang, Zufan; Yang, Laurence T.; W...</td>\n",
       "      <td>2022</td>\n",
       "      <td>ELSEVIER</td>\n",
       "      <td>18</td>\n",
       "    </tr>\n",
       "  </tbody>\n",
       "</table>\n",
       "</div>"
      ],
      "text/plain": [
       "                                       Article Title  \\\n",
       "0  A resilient Trust Management framework towards...   \n",
       "1  A social smart city for public and private mob...   \n",
       "2  Deep neural network for text anomaly detection...   \n",
       "3  Deep Q-network-based heuristic intrusion detec...   \n",
       "4  Edge-aided control dynamics for information di...   \n",
       "\n",
       "                                     Author Keywords  \\\n",
       "0  Social Internet of Things; Trust management; S...   \n",
       "1  Smart city; Social IoT; Heterogeneous networks...   \n",
       "2  Anomaly detection; Text mining; Social Interne...   \n",
       "3  Social Internet of Things; Zero-day attacks; I...   \n",
       "4  Social Internet of Things; Information diffusi...   \n",
       "\n",
       "                                            Abstract  \\\n",
       "0  As a huge number of heterogeneous smart things...   \n",
       "1  Nowadays, smart city paradigm plays a primary ...   \n",
       "2  Unsupervised textual anomaly detection, which ...   \n",
       "3  How to process and classify zero-day attacks d...   \n",
       "4  Information diffusion in social Internet of Th...   \n",
       "\n",
       "                                             Authors  \\\n",
       "0                  Magdich, R; Jemal, H; Ben Ayed, M   \n",
       "1   Anedda, M; Fadda, M; Girau, R; Pau, G; Giusto, D   \n",
       "2                   Mu, J; Zhang, XC; Li, YG; Guo, J   \n",
       "3  Shen, SG; Cai, CP; Li, ZW; Shen, YZ; Wu, GW; Y...   \n",
       "4     Yi, YX; Zhang, ZF; Yang, LT; Wang, XK; Gan, CQ   \n",
       "\n",
       "                                   Author Full Names  Publication Year  \\\n",
       "0       Magdich, Rim; Jemal, Hanen; Ben Ayed, Mounir              2022   \n",
       "1  Anedda, Matteo; Fadda, Mauro; Girau, Roberto; ...              2023   \n",
       "2   Mu, Jie; Zhang, Xianchao; Li, Yuangang; Guo, Jun              2021   \n",
       "3  Shen, Shigen; Cai, Chenpeng; Li, Zhenwei; Shen...              2024   \n",
       "4  Yi, Yinxue; Zhang, Zufan; Yang, Laurence T.; W...              2022   \n",
       "\n",
       "  Publisher  Times Cited  \n",
       "0  ELSEVIER           20  \n",
       "1  ELSEVIER           22  \n",
       "2  ELSEVIER            8  \n",
       "3  ELSEVIER           16  \n",
       "4  ELSEVIER           18  "
      ]
     },
     "execution_count": 67,
     "metadata": {},
     "output_type": "execute_result"
    }
   ],
   "source": [
    "article_selection.head()"
   ]
  },
  {
   "cell_type": "markdown",
   "id": "4887b342-1c58-4ff4-bff3-83cd5bd40a8d",
   "metadata": {},
   "source": [
    "## Exportando campos para nuvem de palavras:"
   ]
  },
  {
   "cell_type": "code",
   "execution_count": 10,
   "id": "6428bfa8-f88d-43b6-a21d-49afba043f88",
   "metadata": {},
   "outputs": [],
   "source": [
    "fields = ['Article Title', 'Abstract' , 'Author Keywords']\n",
    "word_cloud_fields = article_selection[fields]"
   ]
  },
  {
   "cell_type": "code",
   "execution_count": 66,
   "id": "71cd326b-573e-4b3a-9994-7d06d96a0710",
   "metadata": {},
   "outputs": [
    {
     "data": {
      "text/html": [
       "<div>\n",
       "<style scoped>\n",
       "    .dataframe tbody tr th:only-of-type {\n",
       "        vertical-align: middle;\n",
       "    }\n",
       "\n",
       "    .dataframe tbody tr th {\n",
       "        vertical-align: top;\n",
       "    }\n",
       "\n",
       "    .dataframe thead th {\n",
       "        text-align: right;\n",
       "    }\n",
       "</style>\n",
       "<table border=\"1\" class=\"dataframe\">\n",
       "  <thead>\n",
       "    <tr style=\"text-align: right;\">\n",
       "      <th></th>\n",
       "      <th>Article Title</th>\n",
       "      <th>Abstract</th>\n",
       "      <th>Author Keywords</th>\n",
       "    </tr>\n",
       "  </thead>\n",
       "  <tbody>\n",
       "    <tr>\n",
       "      <th>0</th>\n",
       "      <td>A resilient Trust Management framework towards...</td>\n",
       "      <td>As a huge number of heterogeneous smart things...</td>\n",
       "      <td>Social Internet of Things; Trust management; S...</td>\n",
       "    </tr>\n",
       "    <tr>\n",
       "      <th>1</th>\n",
       "      <td>A social smart city for public and private mob...</td>\n",
       "      <td>Nowadays, smart city paradigm plays a primary ...</td>\n",
       "      <td>Smart city; Social IoT; Heterogeneous networks...</td>\n",
       "    </tr>\n",
       "    <tr>\n",
       "      <th>2</th>\n",
       "      <td>Deep neural network for text anomaly detection...</td>\n",
       "      <td>Unsupervised textual anomaly detection, which ...</td>\n",
       "      <td>Anomaly detection; Text mining; Social Interne...</td>\n",
       "    </tr>\n",
       "    <tr>\n",
       "      <th>3</th>\n",
       "      <td>Deep Q-network-based heuristic intrusion detec...</td>\n",
       "      <td>How to process and classify zero-day attacks d...</td>\n",
       "      <td>Social Internet of Things; Zero-day attacks; I...</td>\n",
       "    </tr>\n",
       "    <tr>\n",
       "      <th>4</th>\n",
       "      <td>Edge-aided control dynamics for information di...</td>\n",
       "      <td>Information diffusion in social Internet of Th...</td>\n",
       "      <td>Social Internet of Things; Information diffusi...</td>\n",
       "    </tr>\n",
       "  </tbody>\n",
       "</table>\n",
       "</div>"
      ],
      "text/plain": [
       "                                       Article Title  \\\n",
       "0  A resilient Trust Management framework towards...   \n",
       "1  A social smart city for public and private mob...   \n",
       "2  Deep neural network for text anomaly detection...   \n",
       "3  Deep Q-network-based heuristic intrusion detec...   \n",
       "4  Edge-aided control dynamics for information di...   \n",
       "\n",
       "                                            Abstract  \\\n",
       "0  As a huge number of heterogeneous smart things...   \n",
       "1  Nowadays, smart city paradigm plays a primary ...   \n",
       "2  Unsupervised textual anomaly detection, which ...   \n",
       "3  How to process and classify zero-day attacks d...   \n",
       "4  Information diffusion in social Internet of Th...   \n",
       "\n",
       "                                     Author Keywords  \n",
       "0  Social Internet of Things; Trust management; S...  \n",
       "1  Smart city; Social IoT; Heterogeneous networks...  \n",
       "2  Anomaly detection; Text mining; Social Interne...  \n",
       "3  Social Internet of Things; Zero-day attacks; I...  \n",
       "4  Social Internet of Things; Information diffusi...  "
      ]
     },
     "execution_count": 66,
     "metadata": {},
     "output_type": "execute_result"
    }
   ],
   "source": [
    "word_cloud_fields.head()"
   ]
  },
  {
   "cell_type": "code",
   "execution_count": 12,
   "id": "62a68e32-259e-438e-8b51-90948bb3182f",
   "metadata": {},
   "outputs": [],
   "source": [
    "word_cloud_fields.to_csv('articles_table/word_cloud_fields.csv', index=False)"
   ]
  },
  {
   "cell_type": "code",
   "execution_count": 49,
   "id": "6f678acd-3418-494d-9e9f-0af7ff9ac711",
   "metadata": {},
   "outputs": [],
   "source": [
    "from collections import defaultdict\n",
    "\n",
    "publications_per_year_by_publisher = defaultdict(lambda: defaultdict(int))\n",
    "\n",
    "for index, row in article_selection.iterrows():\n",
    "    publications_per_year_by_publisher[row['Publisher']][row['Publication Year']]+=1\n",
    "\n",
    "sorted_year_and_publisher_quantity = defaultdict(lambda: defaultdict(int))\n",
    "for key, value in publications_per_year_by_publisher.items():\n",
    "    sorted_defaultdict = defaultdict(int, sorted(value.items()))\n",
    "    sorted_year_and_publisher_quantity[key] = sorted_defaultdict\n",
    "publishers = list(publications_per_year_by_publisher.keys())"
   ]
  },
  {
   "cell_type": "code",
   "execution_count": 50,
   "id": "1442d3ae-4319-45e5-8b10-5e81abb4d05b",
   "metadata": {},
   "outputs": [
    {
     "data": {
      "text/plain": [
       "['ELSEVIER', 'IEEE', 'MDPI']"
      ]
     },
     "execution_count": 50,
     "metadata": {},
     "output_type": "execute_result"
    }
   ],
   "source": [
    "publishers"
   ]
  },
  {
   "cell_type": "code",
   "execution_count": 53,
   "id": "b4dd9c3e-504f-4842-9998-e53af300cd52",
   "metadata": {},
   "outputs": [
    {
     "name": "stdout",
     "output_type": "stream",
     "text": [
      "defaultdict(<class 'list'>, {2018: [1, 1, 0], 2019: [0, 0, 0], 2020: [1, 2, 0], 2021: [1, 2, 1], 2022: [4, 6, 2], 2023: [2, 1, 1]})\n"
     ]
    }
   ],
   "source": [
    "year_range = np.arange(2018, 2024, 1)\n",
    "quantity = defaultdict(list)\n",
    "for key in sorted_year_and_publisher_quantity:\n",
    "    for year in year_range:\n",
    "        quantity[year].append(sorted_year_and_publisher_quantity[key][year])\n",
    "print(quantity)"
   ]
  },
  {
   "cell_type": "code",
   "execution_count": 72,
   "id": "30003a36-e699-4024-9e09-787972ec53cd",
   "metadata": {},
   "outputs": [
    {
     "data": {
      "image/png": "[encoded data removed]",
      "text/plain": [
       "<Figure size 1000x600 with 1 Axes>"
      ]
     },
     "metadata": {},
     "output_type": "display_data"
    }
   ],
   "source": [
    "years = list(quantity.keys())\n",
    "quantities = np.array(list(quantity.values()))\n",
    "\n",
    "bar_width = 0.2\n",
    "bar_positions = np.arange(len(years))\n",
    "\n",
    "fig, ax = plt.subplots(figsize=(10, 6))\n",
    "colors = ['orange', 'skyblue', 'lightgreen']\n",
    "\n",
    "for i, (publisher, color) in enumerate(zip(publishers, colors)):\n",
    "    bars = ax.bar(bar_positions + i * bar_width, quantities[:, i], width=bar_width, label=publisher, color=color)\n",
    "    ax.bar_label(bars, padding=3) \n",
    "\n",
    "ax.set_xlabel('Ano')\n",
    "ax.set_ylabel('Publicações')\n",
    "ax.set_title('Publicações por Editora e Ano')\n",
    "ax.set_xticks(bar_positions + bar_width)\n",
    "ax.set_xticklabels(years)\n",
    "ax.legend()\n",
    "\n",
    "plt.tight_layout()\n",
    "plt.show()"
   ]
  },
  {
   "cell_type": "markdown",
   "id": "682ac586-d37d-4170-aa7a-adf31ae4de9e",
   "metadata": {},
   "source": [
    "## Dados bibliométricos usando Orange e VOSviewer"
   ]
  },
  {
   "cell_type": "code",
   "execution_count": null,
   "id": "b856ca1c-925e-4e48-acc8-41c39406fe4c",
   "metadata": {},
   "outputs": [],
   "source": [
    "from IPython.display import Image, display"
   ]
  },
  {
   "cell_type": "markdown",
   "id": "1bac594d-5a6f-427b-809d-e43b0ade525d",
   "metadata": {},
   "source": [
    "### Nuvem de palavras:"
   ]
  },
  {
   "cell_type": "markdown",
   "id": "4da4fa22-a55c-4e4f-9f60-5df8399ddaeb",
   "metadata": {},
   "source": [
    "![Word Cloud](exports/word_cloud.png)"
   ]
  },
  {
   "cell_type": "markdown",
   "id": "6f762806-aa0f-46b6-bb0d-bc5030721c38",
   "metadata": {},
   "source": [
    "### Mapa de palavras-chave:"
   ]
  },
  {
   "cell_type": "markdown",
   "id": "4b719bd5-8606-48ed-985a-2ffff751484f",
   "metadata": {},
   "source": [
    "![Keyword Map](exports/keyword_map.png)"
   ]
  },
  {
   "cell_type": "markdown",
   "id": "dd7d8396-3bf7-4e86-9bca-a17f1c19a722",
   "metadata": {},
   "source": [
    "### Mapa de conexão entre autores:"
   ]
  },
  {
   "cell_type": "markdown",
   "id": "e78b7d09-58ef-4452-a560-afaa6a2ec955",
   "metadata": {},
   "source": [
    "![Author Connection](exports/author_connection_map.png)"
   ]
  },
  {
   "cell_type": "code",
   "execution_count": null,
   "id": "d3916505-c34b-4821-a4ff-665a5ed889f9",
   "metadata": {},
   "outputs": [],
   "source": []
  }
 ],
 "metadata": {
  "kernelspec": {
   "display_name": "Python 3 (ipykernel)",
   "language": "python",
   "name": "python3"
  },
  "language_info": {
   "codemirror_mode": {
    "name": "ipython",
    "version": 3
   },
   "file_extension": ".py",
   "mimetype": "text/x-python",
   "name": "python",
   "nbconvert_exporter": "python",
   "pygments_lexer": "ipython3",
   "version": "3.11.7"
  }
 },
 "nbformat": 4,
 "nbformat_minor": 5
}

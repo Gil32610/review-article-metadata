{
 "cells": [
  {
   "cell_type": "code",
   "execution_count": 11,
   "id": "5e7e05b1-9e26-4b3e-8cf7-2c335354fae4",
   "metadata": {},
   "outputs": [],
   "source": [
    "import numpy as np\n",
    "import matplotlib.pyplot as plt\n",
    "import pandas as pd\n",
    "import pybtex\n",
    "from pybtex.plugin import find_plugin\n",
    "from pybtex.database import parse_string\n",
    "from pybtex.database import parse_file"
   ]
  },
  {
   "cell_type": "markdown",
   "id": "0d28adbe-6182-40b3-80c2-457ae9fa48c9",
   "metadata": {},
   "source": [
    "# Carregando os Dados das Bases:"
   ]
  },
  {
   "cell_type": "markdown",
   "id": "d94d6047-2758-4d6b-809f-9a535fab89ce",
   "metadata": {},
   "source": [
    "### IEEE XPLORE:"
   ]
  },
  {
   "cell_type": "code",
   "execution_count": 6,
   "id": "62d69414-d66f-44e2-86cc-db0cfaf5a090",
   "metadata": {},
   "outputs": [
    {
     "data": {
      "text/plain": [
       "BibliographyData(\n",
       "  entries=OrderedCaseInsensitiveDict([\n",
       "    ('9918042', Entry('article',\n",
       "      fields=[\n",
       "        ('journal', 'IEEE Journal on Selected Areas in Communications'), \n",
       "        ('title', 'Blockchain-Enhanced Federated Learning Market With Social Internet of Things'), \n",
       "        ('year', '2022'), \n",
       "        ('volume', '40'), \n",
       "        ('number', '12'), \n",
       "        ('pages', '3405-3421'), \n",
       "        ('abstract', 'The machine learning performance usually could be improved by training with massive data. However, requesters can only select a subset of devices with limited training data to execute federated learning (FL) tasks as a result of their limited budgets in today’s IoT scenario. To resolve this pressing issue, we devise a blockchain-enhanced FL market (BFL) to $(i)$ make data in computationally bounded devices available for training with social Internet of things, $(ii)$ maximize the amount of training data with given budgets for an FL task, and $(iii)$ decentralize the FL market with blockchain. To achieve these goals, we firstly propose a trust-enhanced collaborative learning strategy (TCL) and a quality-oriented task allocation algorithm (QTA), where TCL enables training data sharing among trusted devices with social Internet of things, and QTA allocates suitable devices to execute FL tasks while maximizing the training quality with fixed budgets. Then, we devise an encrypted model training scheme (EMT) based on a simple but countervailable differential privacy methodology to prevent attacks from malicious devices. In addition, we also propose a contribution-driven delegated proof of stake (DPoS) consensus mechanism to guarantee the fairness of reward distribution in the block generation process. Finally, extensive evaluations are conducted to verify the proposed BFL could improve the total utility of requesters and average accuracy of FL models significantly.'), \n",
       "        ('keywords', 'Task analysis;Information sharing;Federated learning;Social Internet of Things;Training data;Data models;Computational modeling;Federated learning;blockchain;social Internet of Things;task allocation;data sharing'), \n",
       "        ('doi', '10.1109/JSAC.2022.3213314'), \n",
       "        ('ISSN', '1558-0008'), \n",
       "        ('month', 'Dec')],\n",
       "      persons=OrderedCaseInsensitiveDict([('author', [Person('Wang, Pengfei'), Person('Zhao, Yian'), Person('Obaidat, Mohammad S.'), Person('Wei, Zongzheng'), Person('Qi, Heng'), Person('Lin, Chi'), Person('Xiao, Yunming'), Person('Zhang, Qiang')])]))), \n",
       "    ('10365362', Entry('inproceedings',\n",
       "      fields=[\n",
       "        ('bo\n",
       "        oktitle', '2023 7th International Conference on Internet of Things and Applications (IoT)'), ('title', 'A systematic review on recommendation-based link selection strategy in the social internet of things network'), \n",
       "        ('year', '2023'), \n",
       "        ('volume', ''), \n",
       "        ('number', ''), \n",
       "        ('pages', '1-6'), \n",
       "        ('abstract', 'The recent growth of Complex Networks (CN) has produced significant advancements in the study of the integration of these networks into the Internet of Things (IoT) environment. As a result, innovative approaches to representing, describing, and analyzing dynamic social relationships and interactions among a variety of objects have been developed. By offering a shared conceptual framework with the IoT scope, CNs can address the most significant IoT difficulties. To achieve this, the Social Internet of Things (SIoT) paradigm is presented. It is essential in the process of forming social relationships between IoT-deployed things. Any SIoT device can use its social links to access the desired service. The SIoT recommendation-based link selection strategies are examined in this survey using the Systematic Literature Review (SLR) approach. To group the research into areas where recommendation-based friendship selection is important, we provide a cutting-edge technological taxonomy. A thorough comparison of studies based on applied techniques is also given, as well as a synopsis of the major contributions of the evaluated publications. Finally, we describe new emerging challenges that are now being faced, as well as prospective research areas and unresolved problems.'), \n",
       "        ('keywords', 'Surveys;Systematics;Bibliographies;Taxonomy;Complex networks;Book reviews;Social Internet of Things;Complex network;Internet of things;Link selection;Smart thing;Systematic literature review'), \n",
       "        ('doi', '10.1109/IoT60973.2023.10365362'), \n",
       "        ('ISSN', ''), \n",
       "        ('month', 'Oct')],\n",
       "      persons=OrderedCaseInsensitiveDict([('author', [Person('Farhadi, Babak'), Person('Asghari, Parvaneh'), Person('Mahdipour, Ebrahim'), Person('Javadi, Hamid Haj Seyyed')])]))), \n",
       "    ('9838641', Entry('inproceedings',\n",
       "      fields=[\n",
       "        ('bo\n",
       "        oktitle', 'ICC 2022 - IEEE International Conference on Communications'), ('title', 'SIoT Selection, Clustering, and Routing for Federated Learning with Privacy-Preservation'), \n",
       "        ('year', '2022'), \n",
       "        ('volume', ''), \n",
       "        ('number', ''), \n",
       "        ('pages', '5274-5279'), \n",
       "        ('abstract', 'With the advances in Social Internet of Things (SIoT) and Federated learning (FL), smart devices are now able to cooperatively and locally perform learning tasks to protect sensitive data by Differential Privacy (DP). On the other hand, Hierarchical FL (HFL) clusters SIoTs into multiple local training groups to reduce communication overheads by local aggregation. In this paper, we explore SIoT Training Group Construction (STGC) for HFL to minimize the total SIoT computation, communication and hiring costs, and the privacy cost for exploiting DP. We prove that STGC is NP-hard and inapproximable within any factor unless P = NP. Then, we design an algorithm with the ideas of Coverage Efficiency Indicator, Data Balance-aware Dual Adjustment, and Privacy-Aware Rerouting to choose and cluster SIoTs and to determine the aggregator for local training and SIoT routing in each cluster. Simulation results manifest that the proposed algorithm outperforms state-of-the-arts regarding the total cost, model accuracy, and convergence time.'), \n",
       "        ('keywords', 'Training;Performance evaluation;Costs;Simulation;Clustering algorithms;Routing;Collaborative work'), \n",
       "        ('doi', '10.1109/ICC45855.2022.9838641'), \n",
       "        ('ISSN', '1938-1883'), \n",
       "        ('month', 'May')],\n",
       "      persons=OrderedCaseInsensitiveDict([('author', [Person('Chung, Min-Siou'), Person('Wang, Chih-Hang'), Person('Yang, De-Nian'), Person('Lee, Guang-Siang'), Person('Chen, Wen-Tsuen'), Person('Sheu, Jang-Ping')])]))), \n",
       "    ('10440644', Entry('article',\n",
       "      fields=[\n",
       "        ('journal', 'IEEE Transactions on Computational Social Systems'), \n",
       "        ('title', 'A Multimodal Latent-Features-Based Service Recommendation System for the Social Internet of Things'), \n",
       "        ('year', '2024'), \n",
       "        ('volume', ''), \n",
       "        ('number', ''), \n",
       "        ('pages', '1-16'), \n",
       "        ('abstract', 'The Social Internet of Things (SIoT) is revolutionizing how we interact with our everyday lives. By adding the social dimension to connecting devices, the SIoT has the potential to drastically change the way we interact with smart devices. This connected infrastructure allows for unprecedented levels of convenience, automation, and access to information, allowing us to do more with less effort. However, this revolutionary new technology also brings an eager need for service recommendation systems. As the SIoT grows in scope and complexity, it becomes increasingly important for businesses and individuals, and SIoT objects alike to have reliable sources for products, services, and information that are tailored to their specific needs. Few works have been proposed to provide service recommendations for SIoT environments. However, these efforts have been confined to only focusing on modeling user-item interactions using contextual information, devices’ SIoT relationships, and correlation social groups but these schemes do not account for latent semantic item–item structures underlying the sparse multimodal contents in SIoT environment. In this article, we propose a latent-based SIoT recommendation system that learns item–item structures and aggregates multiple modalities to obtain latent item graphs which are then used in graph convolutions to inject high-order affinities into item representations. Experiments showed that the proposed recommendation system outperformed state-of-theart SIoT recommendation methods and validated its efficacy at mining latent relationships from multimodal features.'), \n",
       "        ('keywords', 'Social Internet of Things;Recommender systems;Correlation;Collaboration;Business;Social networking (online);Costs;Multimodal features;service recommendations;Social Internet of Things (SIoT)'), \n",
       "        ('doi', '10.1109/TCSS.2024.3360518'), \n",
       "        ('ISSN', '2329-924X'), \n",
       "        ('month', '')],\n",
       "      persons=OrderedCaseInsensitiveDict([('author', [Person('Khelloufi, Amar'), Person('Ning, Huansheng'), Person('Naouri, Abdenacer'), Person('Sada, Abdelkarim Ben'), Person('Qammar, Attia'), Person('Khalil, Abdelkader'), Person('Mao, Lingfeng'), Person('Dhelim, Sahraoui')])]))), \n",
       "    ('10491682', Entry('inproceedings',\n",
       "      fields=[\n",
       "        ('bo\n",
       "        oktitle', '2023 IEEE Intl Conf on Parallel & Distributed Processing with Applications, Big Data & Cloud Computing, Sustainable Computing & Communications, Social Computing & Networking (ISPA/BDCloud/SocialCom/SustainCom)'), ('title', 'Ensuring Minority Group Rights in Social IoT with Fairness-aware Federated Graph Node Classification'), \n",
       "        ('year', '2023'), \n",
       "        ('volume', ''), \n",
       "        ('number', ''), \n",
       "        ('pages', '125-130'), \n",
       "        ('abstract', 'Graph neural networks (GNNs) are a powerful tool to predict the categories of IoT nodes for providing diverse high-quality services in the social Internet of Things (SIoT). Intuitively, SIoT could be divided into several communities based on similar interests and mutual trust, whereas interaction between cross-community nodes may intrigue data privacy. With the popularity of federated learning (FL), a global GNN model can be collaboratively trained by exploiting knowledge from multiple parties in a privacy-preserving way. However, since node attributes across different SIoT communities are usually multi-source and heterogeneous, the performance of an optimum global model may exhibit potential bias against minority social groups, i.e, unfairness, thereby undermining the efficiency of node classification and social behavior analysis. To address this problem, we propose PFedNC, a proportional fairness-aware federated learning framework for node classification in SIoT system. Specifically, we incorporate proportional fairness and related Nash bargaining solution into FL optimization objective, which imposes more fairness while maintaining a similar average performance. Moreover, we design a class-balanced re-weighting loss function to mitigate imbalanced class distribution caused by non-IID node distribution. Extensive experiments on two node-level SIoT simulation datasets demonstrate that our PFedNC framework effectively encourages performance fairness among social groups and achieves a favorable tradeoff between fairness and efficiency.'), \n",
       "        ('keywords', 'Data privacy;Analytical models;Social groups;Federated learning;Focusing;Graph neural networks;Social Internet of Things;Federated Learning;Graph Neural Networks;Proportional Fairness;Social Internet of Things'), \n",
       "        ('doi', '10.1109/ISPA-BDCloud-SocialCom-SustainCom59178.2023.00049'), \n",
       "        ('ISSN', ''), \n",
       "        ('month', 'Dec')],\n",
       "      persons=OrderedCaseInsensitiveDict([('author', [Person('Mao, Qinghua'), Person('Lin, Xi'), Person('Li, Gaolei'), Person('Chen, Lixing'), Person('Liu, Yuchen'), Person('Qi, Yuxin'), Person('Li, Jianhua')])]))), \n",
       "    ('9845490', Entry('article',\n",
       "      fields=[\n",
       "        ('journal', 'IEEE Intelligent Transportation Systems Magazine'), \n",
       "        ('title', 'A Survey of the Social Internet of Vehicles: Secure Data Issues, Solutions, and Federated Learning'), \n",
       "        ('year', '2023'), \n",
       "        ('volume', '15'), \n",
       "        ('number', '2'), \n",
       "        ('pages', '70-84'), \n",
       "        ('abstract', 'The Social Internet of Vehicles (SIoV) is constructed so that the vehicle, as an entity, generates social awareness, which leads to the social behavior of the vehicle. The SIoV has multidimensional, heterogeneous, massive, real-time dynamic data, so its data security is a major concern. The structure of the SIoV and the characteristics of security primitives are studied in this review, which defines the social community by the vehicle. After this, the attack model is elaborated on, further refining the source, target, and capabilities of the attack. On this basis, typical data security solutions are compared and analyzed. In this survey, the focus is on the collaborative application of federated learning in SIoV data security protection. Ultimately, the current challenges and possible future research directions in this field are discussed.'), \n",
       "        ('keywords', 'Data security;Vehicle dynamics;Vehicular ad hoc networks;Sensors;Security;Social Internet of Things;Data models'), \n",
       "        ('doi', '10.1109/MITS.2022.3190036'), \n",
       "        ('ISSN', '1941-1197'), \n",
       "        ('month', 'March')],\n",
       "      persons=OrderedCaseInsensitiveDict([('author', [Person('Xing, Ling'), Person('Zhao, Pengcheng'), Person('Gao, Jianping'), Person('Wu, Honghai'), Person('Ma, Huahong')])]))), \n",
       "    ('10476199', Entry('inproceedings',\n",
       "      fields=[\n",
       "        ('bo\n",
       "        oktitle', '2023 IEEE 29th International Conference on Parallel and Distributed Systems (ICPADS)'), ('title', 'Anomalous Behavior Identification with Visual Federated Learning in Multi-UAVs Systems'), \n",
       "        ('year', '2023'), \n",
       "        ('volume', ''), \n",
       "        ('number', ''), \n",
       "        ('pages', '2143-2150'), \n",
       "        ('abstract', 'Anomaly detection aims to identify data or behav-iors that are different from the usual patterns. In traditional anomaly detection settings, edge devices collect the data and send it to a centralized server for model training, which faces two critical issues: (1) it risks data exposure during transmission; (2) it demands a large amount of network bandwidth for data transfer. To tackle these problems, we propose a Visual Federated Learning algorithm (VFLA) for anomalous behavior identification in the multi-UAVs system. To the best of our knowledge, we are the first to merge federated learning with video-based anomaly detection. VFLA consists of two phases: The initial phase is training a pseudo-label generator. UAVs collect a dataset and manually annotate it. This labeled data is then used to train the pseudo-label generator on the server, which is subsequently distributed back to the UAVs. The second phase is the federated learning-based anomaly detection model training. UAVs leverage the pseudo-label generator to automatically annotate the collected video footage. These annotated videos are fed into an anomaly detection network for training. Once the local training is completed, UAVs upload their local models to a server for federated aggregation. The global model is then redistributed to the UAVs for additional training rounds, until reach the target accuracy. Finally, we simulate the federated learning anomaly detection algorithm on the Shanghai-tech dataset, it demonstrates an average accuracy boost of 5.6% compared to baselines.'), \n",
       "        ('keywords', 'Training;Visualization;Federated learning;Image edge detection;Distributed databases;Data transfer;Generators;Distributed training;Federated learning;Anomaly detection;UAVs'), \n",
       "        ('doi', '10.1109/ICPADS60453.2023.00290'), \n",
       "        ('ISSN', '2690-5965'), \n",
       "        ('month', 'Dec')],\n",
       "      persons=OrderedCaseInsensitiveDict([('author', [Person('Wang, Pengfei'), Person('Yu, Xinrui'), Person('Ye, Yefei'), Person('Qi, Heng'), Person('Yu, Shuo'), Person('Yang, Leyou'), Person('Zhang, Qiang')])]))), \n",
       "    ('9409743', Entry('article',\n",
       "      fields=[\n",
       "        ('journal', 'IEEE Transactions on Network Science and Engineering'), \n",
       "        ('title', 'A Privacy-Preserving Federated Learning for Multiparty Data Sharing in Social IoTs'), \n",
       "        ('year', '2021'), \n",
       "        ('volume', '8'), \n",
       "        ('number', '3'), \n",
       "        ('pages', '2706-2718'), \n",
       "        ('abstract', 'As 5G and mobile computing are growing rapidly, deep learning services in the Social Computing and Social Internet of Things (IoT) have enriched our lives over the past few years. Mobile devices and IoT devices with computing capabilities can join social computing anytime and anywhere. Federated learning allows for the full use of decentralized training devices without the need for raw data, providing convenience in breaking data silos further and delivering more precise services. However, the various attacks illustrate that the current training process of federal learning is still threatened by disclosures at both the data and content levels. In this paper, we propose a new hybrid privacy-preserving method for federal learning to meet the challenges above. First, we employ an advanced function encryption algorithm that not only protects the characteristics of the data uploaded by each client, but also protects the weight of each participant in the weighted summation procedure. By designing local Bayesian differential privacy, the noise mechanism can effectively improve the adaptability of different distributed data sets. In addition, we also use Sparse Differential Gradient to improve the transmission and storage efficiency in federal learning training. Experiments show that when we use the sparse differential gradient to improve the transmission efficiency, the accuracy of the model is only dropped by 3% at most.'), \n",
       "        ('keywords', 'Privacy;Encryption;Differential privacy;Training;Data privacy;Servers;Deep learning;Multiparty data sharing;federated learning;privacy-preserving;functional encryption;local differential privacy'), \n",
       "        ('doi', '10.1109/TNSE.2021.3074185'), \n",
       "        ('ISSN', '2327-4697'), \n",
       "        ('month', 'July')],\n",
       "      persons=OrderedCaseInsensitiveDict([('author', [Person('Yin, Lihua'), Person('Feng, Jiyuan'), Person('Xun, Hao'), Person('Sun, Zhe'), Person('Cheng, Xiaochun')])]))), \n",
       "    ('9500928', Entry('inproceedings',\n",
       "      fields=[\n",
       "        ('bo\n",
       "        oktitle', 'ICC 2021 - IEEE International Conference on Communications'), ('title', 'Reputation-enabled Federated Learning Model Aggregation in Mobile Platforms'), \n",
       "        ('year', '2021'), \n",
       "        ('volume', ''), \n",
       "        ('number', ''), \n",
       "        ('pages', '1-6'), \n",
       "        ('abstract', 'Federated Learning (FL) builds on a mobile network of participating nodes that train local models and contribute to the learning model parameters at a central server without being obliged to share their raw data. The server aggregates the uploaded model parameters to generate a global model. Common practice for the uploaded local models is an evenly weighted aggregation, assuming that each node of the network contributes to advancing the global model equally. Due to the heterogeneous nature of the devices and collected data, it is inevitable to have variations between the contributions of the users to the global model. Therefore, users (i.e., devices) with higher contributions should be weighted higher during aggregation. With this in mind, this paper proposes a reputation-enabled aggregation methodology that scales the aggregation weights of users by their reputation scores. Reputation score of a user is computed according to the performance metrics of their trained local models during each training round, therefore it can be a metric to evaluate the direct contributions of their trained local model. Numerical comparison of the proposed aggregation methodology to a baseline that utilizes standard averaging as well as a second baseline that is scoped to a reputation-based client selection shows an improvement of 17.175% over the standard baseline for not independent and identically distributed (non-IID) scenarios for an FL network of 100 participants. Consistent improvements over the first and second baselines under smaller FL networks with users ranging from 20 to 100 are also shown.'), \n",
       "        ('keywords', 'Training;Computational modeling;Neural networks;Data aggregation;Collaborative work;Data models;Distance measurement;Distributed Learning;Mobile Networks;Federated Learning;Deep Neural Networks;Deep Learning;Reputation systems'), \n",
       "        ('doi', '10.1109/ICC42927.2021.9500928'), \n",
       "        ('ISSN', '1938-1883'), \n",
       "        ('month', 'June')],\n",
       "      persons=OrderedCaseInsensitiveDict([('author', [Person('Wang, Yuwei'), Person('Kantarci, Burak')])]))), \n",
       "    ('9522327', Entry('inproceedings',\n",
       "      fields=[\n",
       "        ('bo\n",
       "        oktitle', '2021 International Conference on Computer Communications and Networks (ICCCN)'), ('title', 'Efficient Communication Topology via Partially Differential Privacy for Decentralized Learning'), \n",
       "        ('year', '2021'), \n",
       "        ('volume', ''), \n",
       "        ('number', ''), \n",
       "        ('pages', '1-9'), \n",
       "        ('abstract', 'Decentralized learning (DL) allows IoT devices to exchange local model updates with only their neighboring devices instead of sending their model updates to a central server for aggregation. However, current DL frameworks cannot support the emerging Social IoT(SIoT) paradigm since SIoT devices exchange model updates with only social neighbors based on specific social relations (e.g., ownership and parental relationships). Conversely, sharing model updates with non-social neighbors can improve training performance but may violate social relations. Differential privacy (DP) is thus engaged with DL to ensure data security, while excessive devices engaging DP may downgrade the training performance. However, most research neglects the effect of neighbor selection for each device based on social networks, physical networks, and DP. Therefore, in this paper, we explore the non-trivial relation among the above factors to present a DL framework, DeepPrivacy, and prove its convergence rate and DP. Then, we formulate a novel optimization problem, CoTOPO, to find an efficient communication topology 1 for model updates exchange among devices in DL, and propose an algorithm, AutoTag, for CoTOPO. Last, experiment results manifest that DeepPrivacy and AutoTag combined outperform the state of the art in terms of convergence rate and physical training time significantly on CIFAR10 and FMNIST.'), \n",
       "        ('keywords', 'Training;Performance evaluation;Differential privacy;Social networking (online);Network topology;Data security;Topology;Social Internet-of-Things;Decentralized Learning;Communication Topology;Partially Differential Privacy'), \n",
       "        ('doi', '10.1109/ICCCN52240.2021.9522327'), \n",
       "        ('ISSN', '2637-9430'), \n",
       "        ('month', 'July')],\n",
       "      persons=OrderedCaseInsensitiveDict([('author', [Person('Ching, Cheng-Wei'), Person('Huang, Hung-Sheng'), Person('Yang, Chun-An'), Person('Liu, Yu-Chun'), Person('Kuo, Jian-Jhih')])]))), \n",
       "    ('10462542', Entry('article',\n",
       "      fields=[\n",
       "        ('journal', 'IEEE Transactions on Vehicular Technology'), \n",
       "        ('title', 'Federated Learning-based Privacy-aware Location Prediction Model for Internet of Vehicular Things'), \n",
       "        ('year', '2024'), \n",
       "        ('volume', ''), \n",
       "        ('number', ''), \n",
       "        ('pages', '1-11'), \n",
       "        ('abstract', \"In the contemporary landscape of vehicular communications, the role of vehicular ad-hoc networks (VANETs) has become increasingly pivotal, transcending the capabilities of traditional mobile ad-hoc networks (MANETs). These advancements in VANETs play a critical role in enhancing traffic management systems, promoting collision prevention, bolstering road safety, and efficiently handling emergency scenarios. Modern vehicles, equipped with advanced data collection tools, accumulate extensive information encompassing vehicle health, fuel requirements, and comprehensive location histories. This rich data repository is instrumental in forecasting future destinations and facilitating timely arrangements, embodying the essence of ambient intelligence within the Internet of Things (IoT) framework. In emergency contexts, the rapid analysis of vehicle data is crucial for identifying the nearest emergency facilities. This paper proposes an innovative approach that leverages machine learning and edge computing techniques to predict vehicles' subsequent locations using large-scale data, concurrently prioritizing user privacy. We employ federated learning for processing at the network's edge and integrate a blockchain-based distributed database to ensure robust data privacy and security. The application of blockchain and federated learning in training models on expansive datasets is particularly effective in estimating the proximity to medical facilities and emergency services. Furthermore, this study introduces an optimization method to monitor vehicle speed and outlines a comprehensive attack model, along with effective protection measures.\"), \n",
       "        ('keywords', 'Blockchains;Vehicular ad hoc networks;Privacy;Data models;Federated learning;Predictive models;Data privacy;Large-Scale Data Models;Blockchain;Federated Learning;Location Prediction;Internet of Vehicles'), \n",
       "        ('doi', '10.1109/TVT.2024.3368439'), \n",
       "        ('ISSN', '1939-9359'), \n",
       "        ('month', '')],\n",
       "      persons=OrderedCaseInsensitiveDict([('author', [Person('Ali, Wajahat'), Person('Din, Ikram Ud'), Person('Almogren, Ahmad'), Person('Rodrigues, Joel J. P. C.')])]))), \n",
       "    ('10415198', Entry('article',\n",
       "      fields=[\n",
       "        ('journal', 'IEEE Transactions on Sustainable Computing'), \n",
       "        ('title', 'A Novel Resource Management Framework for Blockchain-Based Federated Learning in IoT Networks'), \n",
       "        ('year', '2024'), \n",
       "        ('volume', ''), \n",
       "        ('number', ''), \n",
       "        ('pages', '1-12'), \n",
       "        ('abstract', \"At present, the centralized learning models, used for IoT applications generating large amount of data, face several challenges such as bandwidth scarcity, more energy consumption, increased uses of computing resources, poor connectivity, high computational complexity, reduced privacy, and large latency towards data transfer. In order to address the aforementioned challenges, Blockchain-Enabled Federated Learning Networks (BFLNs) emerged recently, which deal with trained model parameters only, rather than raw data. BFLNs provide enhanced security along with improved energy-efficiency and Quality-of-Service (QoS). However, BFLNs suffer with the challenges of exponential increased action space in deciding various parameter levels towards training and block generation. Motivated by aforementioned challenges of BFLNs, in this work, we are proposing an actor-critic Reinforcement Learning (RL) method to model the Machine Learning Model Owner (MLMO) in selecting the optimal set of parameter levels, addressing the challenges of exponential grow of action space in BFLNs. Further, due to the implicit entropy exploration, actor-critic RL method balances the exploration-exploitation trade-off and shows better performance than most off-policy methods, on large discrete action spaces. Therefore, in this work, considering the mobile scenario of the devices, MLMO decides the data and energy levels that the mobile devices use for the training and determine the block generation rate. This leads to minimized system latency and reduced overall cost, while achieving the target accuracy. Specifically, we have used Proximal Policy Optimization (PPO) as an on-policy actor-critic method with it's two variants, one based on Monte Carlo (MC) returns and another based on Generalized Advantage Estimate (GAE). We analyzed that PPO has better exploration and sample efficiency, lesser training time, and consistently higher cumulative rewards, when compared to off-policy Deep Q-Network (DQN).\"), \n",
       "        ('keywords', 'Internet of Things;Blockchains;Training;Computational modeling;Servers;Mobile handsets;Data models;Actor-critic reinforcement learning;and exploration-exploitation;blockchain;federated learning;internet of things (IoT);queuing theory;resource managemnet'), \n",
       "        ('doi', '10.1109/TSUSC.2024.3358915'), \n",
       "        ('ISSN', '2377-3782'), \n",
       "        ('month', '')],\n",
       "      persons=OrderedCaseInsensitiveDict([('author', [Person('Mishra, Aman'), Person('Garg, Yash'), Person('Pandey, Om Jee'), Person('Shukla, Mahendra K.'), Person('Vasilakos, Athanasios V.'), Person('Hegde, Rajesh M.')])])))]),\n",
       "\n",
       "  preamble=[])"
      ]
     },
     "execution_count": 6,
     "metadata": {},
     "output_type": "execute_result"
    }
   ],
   "source": [
    "ieee_xplore_bib_data = parse_file(\"aritcles\\\\bibtex\\\\ieee\\\\IEEE Xplore Citation BibTeX Download 2024.4.27.19.8.32.bib\")\n",
    "ieee_xplore_bib_data"
   ]
  },
  {
   "cell_type": "markdown",
   "id": "465cf706-e19e-45e6-88b5-8516c4e14631",
   "metadata": {},
   "source": [
    "### ScienceDirect:"
   ]
  },
  {
   "cell_type": "code",
   "execution_count": 8,
   "id": "f2e0440d-82c1-47c2-8be7-58e79889efc0",
   "metadata": {},
   "outputs": [
    {
     "data": {
      "text/plain": [
       "BibliographyData(\n",
       "  entries=OrderedCaseInsensitiveDict([\n",
       "    ('SHEN2024111080', Entry('article',\n",
       "      fields=[\n",
       "        ('title', 'Deep Q-network-based heuristic intrusion detection against edge-based SIoT zero-day attacks'), \n",
       "        ('journal', 'Applied Soft Computing'), \n",
       "        ('volume', '150'), \n",
       "        ('pages', '111080'), \n",
       "        ('year', '2024'), \n",
       "        ('issn', '1568-4946'), \n",
       "        ('doi', 'https://doi.org/10.1016/j.asoc.2023.111080'), \n",
       "        ('url', 'https://www.sciencedirect.com/science/article/pii/S1568494623010980'), \n",
       "        ('keywords', 'Social Internet of Things, Zero-day attacks, Intrusion detection system, Deep Q-Networks, Heuristic learning'), \n",
       "        ('abstract', 'How to process and classify zero-day attacks due to their huge damage to social Internet of Things (SIoT) systems has become a hot research issue. To solve this issue, we propose a heuristic learning intrusion detection system with Deep Q-Networks (DQN) for edge-based SIoT networks under the scenario of insufficient training samples, which is named DQN-HIDS. It is composed of an SIoT network traffic processing module and a DQN-based heuristic learning network. The SIoT network traffic processing module generates SIoT traffic samples, selects samples entering a classifier and a cybersecurity examiner center, and outputs similarity. We integrate DQN into a heuristic learning network to gradually improve its ability to identify malicious traffic. Specially, reward functions are designed according to the selected actions of the network, in order to punish the behavior of incorrectly labeling malicious samples and make variable reward functions adapt to different execution actions. The LSTM-based DQN then maximizes the cumulative expected reward to find the optimal strategy for the heuristic learning network. Consequently, DQN-HIDS gradually improves the behavior frequency of its labeling, reduces resource workloads, and increases the ability to label SIoT network traffic. Experiments show the performance of DQN-HIDS in terms of the workload of the examiner center and the queue workload of delayed samples, the rewards obtained by the DQN-based heuristic learning network, and the accuracy of the classifier. Comparisons with a state-of-the-art deep learning model and typical machine learning methods are also made, demonstrating the advantages of DQN-HIDS with fewer SIoT network traffic samples.')],\n",
       "      persons=OrderedCaseInsensitiveDict([('author', [Person('Shen, Shigen'), Person('Cai, Chenpeng'), Person('Li, Zhenwei'), Person('Shen, Yizhou'), Person('Wu, Guowen'), Person('Yu, Shui')])]))), \n",
       "    ('SHARMA2021102685', Entry('article',\n",
       "      fields=[\n",
       "        ('title', 'Role of machine learning and deep learning in securing 5G-driven industrial IoT applications'), \n",
       "        ('journal', 'Ad Hoc Networks'), \n",
       "        ('volume', '123'), \n",
       "        ('pages', '102685'), \n",
       "        ('year', '2021'), \n",
       "        ('issn', '1570-8705'), \n",
       "        ('doi', 'https://doi.org/10.1016/j.adhoc.2021.102685'), \n",
       "        ('url', 'https://www.sciencedirect.com/science/article/pii/S1570870521001906'), \n",
       "        ('keywords', 'Industrial internet of things, Security, Machine learning, Deep learning, Artificial intelligence, Block chain, Smart city'), \n",
       "        ('abstract', 'The Internet of Things (IoT) connects millions of computing devices and has set a stage for future technology where industrial use cases like smart cities and smart houses will operate with minimal human intervention. IoT’s cross-domain amalgamations with emergent technologies like 5G and blockchain affects human life. Hence, increase in reliance over IoT necessitates focus on its privacy and security concerns. Implementing security through encryption, authentication, access control and communication security is the need of the hour. These needs can be best catered with the use of machine learning (ML) and deep learning (DL) that can help in realizing secure intelligent systems. In this work, the authors present a comprehensive review for securing Industrial-IoT (I-IoT) devices to contribute to the development of security methods for I-IoT deployed over 5G and blockchain. The survey provides a general analysis of the state-of-the-art security implementation and further assesses the product life cycle of IoT devices. The authors present numerous virtues as well as faults in the machine learning and deep learning algorithms deployed over the fog architecture in context with the security solutions. The potential security algorithms can help overcome many challenges in the IoT security and pave way for implementation with emerging technologies like 5G, blockchain, edge computing, fog computing and their use cases for creating smart environments.')],\n",
       "      persons=OrderedCaseInsensitiveDict([('author', [Person('Sharma, Parjanay'), Person('Jain, Siddhant'), Person('Gupta, Shashank'), Person('Chamola, Vinay')])]))), \n",
       "    ('AMIRIZARANDI2023110005', Entry('article',\n",
       "      fields=[\n",
       "        ('title', 'SIDS: A federated learning approach for intrusion detection in IoT using Social Internet of Things'), \n",
       "        ('journal', 'Computer Networks'), \n",
       "        ('volume', '236'), \n",
       "        ('pages', '110005'), \n",
       "        ('year', '2023'), \n",
       "        ('issn', '1389-1286'), \n",
       "        ('doi', 'https://doi.org/10.1016/j.comnet.2023.110005'), \n",
       "        ('url', 'https://www.sciencedirect.com/science/article/pii/S1389128623004504'), \n",
       "        ('keywords', 'Federated learning, IoT, SIoT, Privacy, Security, Generative Adversarial Networks'), \n",
       "        ('abstract', 'The Internet of Things (IoT) ecosystem needs Intrusion Detection Systems (IDS) to mitigate cyberattacks and exploit security vulnerabilities. Over the past years, utilizing machine learning in IDSs has gained a lot of attention. However, in many current works, the training data from different locations should be collected in a central server to be used in the learning process. This data-sharing procedure increases concerns regarding data privacy and decreases the data holders’ motivation to participate in the learning process. The use of distributed learning models has been considered a solution to overcome concerns related to privacy. However, these distributed learning models are vulnerable in the presence of untrusted nodes that can participate in the learning process and deteriorate performance. In this paper, we propose SIDS (Social Intrusion Detection System), a trust-oriented federated learning approach for intrusion detection in IoT that utilizes the Social Internet of Things (SIoT). The proposed approach leverages the social relationships among the objects in a system to provide a privacy-preserving collaborative mechanism for detecting intrusions in IoT environments. The experimental results show the proposed solution outperforms the learning models on individual servers while providing a privacy-preserving and trustable environment for collaboration.')],\n",
       "      persons=OrderedCaseInsensitiveDict([('author', [Person('Amiri-Zarandi, Mohammad'), Person('Dara, Rozita A.'), Person('Lin, Xiaodong')])]))), \n",
       "    ('BANGUI2023553', Entry('article',\n",
       "      fields=[\n",
       "        ('title', 'Social Internet of Things: Ethical AI Principles in Trust Management'), \n",
       "        ('journal', 'Procedia Computer Science'), \n",
       "        ('volume', '220'), \n",
       "        ('pages', '553-560'), \n",
       "        ('year', '2023'), \n",
       "        ('note', 'The 14th International Conference on Ambient Systems, Networks and Technologies Networks (ANT) and The 6th International Conference on Emerging Data and Industry 4.0 (EDI40)'), \n",
       "        ('issn', '1877-0509'), \n",
       "        ('doi', 'https://doi.org/10.1016/j.procs.2023.03.070'), \n",
       "        ('url', 'https://www.sciencedirect.com/science/article/pii/S1877050923006051'), \n",
       "        ('keywords', 'Trust Management, AI, SIoT, IoT, Ethics, Cyber-physical systems'), \n",
       "        ('abstract', 'Trust management has become a fundamental requirement for Social Internet of Things (SIoT) to enable a trustworthy social network of smart objects necessary for enhancing the security and reliability of cyber-physical systems. To increase the credibility scores in trust management, AI (Artificial Intelligence) has been adopted. However, the current need for digital acceleration has brought ethical concerns related to the smartness and social consciousness of autonomous objects, which leads to a question whether AI-based trust management is ready to deal with these concerns. In this paper, we consider 11 ethical dimensions within the context of trust management in SIoT. Then, we examine the existing AI-based trust models in the context of SIoT and its related application domains to assess their maturity in terms of the 11 ethical dimensions. The evaluation results show how trust management can be improved by AI ethical principles in vehicular networks and underwater acoustic sensor networks.')],\n",
       "      persons=OrderedCaseInsensitiveDict([('author', [Person('Bangui, Hind'), Person('Buhnova, Barbora'), Person('Ge, Mouzhi')])]))), \n",
       "    ('PRIYADARSHINI2022108193', Entry('article',\n",
       "      fields=[\n",
       "        ('title', 'Time series analysis and anomaly detection for trustworthy smart homes'), \n",
       "        ('journal', 'Computers and Electrical Engineering'), \n",
       "        ('volume', '102'), \n",
       "        ('pages', '108193'), \n",
       "        ('year', '2022'), \n",
       "        ('issn', '0045-7906'), \n",
       "        ('doi', 'https://doi.org/10.1016/j.compeleceng.2022.108193'), \n",
       "        ('url', 'https://www.sciencedirect.com/science/article/pii/S0045790622004347'), \n",
       "        ('keywords', 'Smart home, Trustworthy systems, ARIMA, SARIMA, LSTM, Prophet'), \n",
       "        ('abstract', 'The IoT network is expected to harbor several zettabytes of information in the future. Since trust and integrity are critical to IoT, it is essential to imbibe trust into the IoT environment for ensuring dependability and reliability. We propose a machine learning-based trustworthy system for the IoT-based smart home environment. Multiple appliances connected through the internet are susceptible to privacy issues, hence utmost care must be taken to ensure trust in the network. We consider the energy data and weather information with respect to smart homes, for comprehending the relationship between energy consumption by appliances and time period for detecting anomalous usage of appliances using the SDAR-based Change Finder algorithm. Time series analysis is performed using ARIMA, SARIMA, LSTM, Prophet, Light GBM, and VAR. The evaluation has been performed using RMSE, MSE, and MAE, and the study establishes that the ARIMA model outperforms the other models.')],\n",
       "      persons=OrderedCaseInsensitiveDict([('author', [Person('Priyadarshini, Ishaani'), Person('Alkhayyat, Ahmed'), Person('Gehlot, Anita'), Person('Kumar, Raghvendra')])]))), \n",
       "    ('WU2023103608', Entry('article',\n",
       "      fields=[\n",
       "        ('title', 'STSIR: An individual-group game-based model for disclosing virus spread in Social Internet of Things'), \n",
       "        ('journal', 'Journal of Network and Computer Applications'), \n",
       "        ('volume', '214'), \n",
       "        ('pages', '103608'), \n",
       "        ('year', '2023'), \n",
       "        ('issn', '1084-8045'), \n",
       "        ('doi', 'https://doi.org/10.1016/j.jnca.2023.103608'), \n",
       "        ('url', 'https://www.sciencedirect.com/science/article/pii/S1084804523000279'), \n",
       "        ('keywords', 'Social internet of things, Virus spread, Individual-group game, Epidemic theory, Stability, Equilibrium points'), \n",
       "        ('abstract', \"Social Internet of Things (SIoT) with deep integration of Internet of Things and social networks has become a target of a large number of hackers who attempt to spread viruses for breaching data confidentiality and service reliability. Therefore, exposing the law of virus spread with social characteristics and addressing historical dependence of infection and recovery rates in an SIoT are urgent problems to be solved at present. To this end, we propose a novel virus spread model (STSIR) based on an epidemic theory's analysis framework and individual-group game theory, which more reasonably describes viruses spread among devices considering people behavior. Aiming at the characteristics of SIoTs including limited social distance and dynamic number variation of people and devices, we adopt and improve the traditional epidemic model SIR to reveal the form of viruses continuously spreading to neighbor nodes. We then introduce an individual-group game to establish the attack and defense model between infected SIoT nodes and susceptible SIoT nodes, in order to not only obtain the mixed Nash equilibrium solution by using a payoff matrix but also solve the dependence of the infection and recovery rates on historical experience. Further, we establish differential equations to represent the model STSIR, which are the basis of proving the existence of model equilibrium points and analyzing stability mathematically. Finally, the effectiveness of the model STSIR in curbing virus spread is verified by simulating two equilibrium points. Under the same conditions in an SIoT, the model STSIR reduce viruses by ∼45% more than the model SIS, and saves stabilization time cost by ∼66.7% compared with the model SIR, which proves that the model STSIR is obviously more effective.\")],\n",
       "      persons=OrderedCaseInsensitiveDict([('author', [Person('Wu, Guowen'), Person('Xie, Lanlan'), Person('Zhang, Hong'), Person('Wang, Jianhua'), Person('Shen, Shigen'), Person('Yu, Shui')])])))]),\n",
       "\n",
       "  preamble=[])"
      ]
     },
     "execution_count": 8,
     "metadata": {},
     "output_type": "execute_result"
    }
   ],
   "source": [
    "sciencedirect_bib_data = parse_file(\"aritcles\\\\bibtex\\\\sciencedirect\\\\ScienceDirect_citations_1714254735720.bib\")\n",
    "sciencedirect_bib_data"
   ]
  },
  {
   "cell_type": "markdown",
   "id": "6fe1447a-704d-4259-bd81-4599ccbd1926",
   "metadata": {},
   "source": [
    "### MDPI:"
   ]
  },
  {
   "cell_type": "code",
   "execution_count": 15,
   "id": "cb663c2f-2b74-44b7-aab0-652751f048b2",
   "metadata": {},
   "outputs": [
    {
     "data": {
      "text/plain": [
       "BibliographyData(\n",
       "  entries=OrderedCaseInsensitiveDict([\n",
       "    ('su15010374', Entry('article',\n",
       "      fields=[\n",
       "        ('TITLE', 'IoT: A Decentralized Trust Management System Using Blockchain-Empowered Federated Learning'), \n",
       "        ('JOURNAL', 'Sustainability'), \n",
       "        ('VOLUME', '15'), \n",
       "        ('YEAR', '2023'), \n",
       "        ('NUMBER', '1'), \n",
       "        ('ARTICLE-NUMBER', '374'), \n",
       "        ('URL', 'https://www.mdpi.com/2071-1050/15/1/374'), \n",
       "        ('ISSN', '2071-1050'), \n",
       "        ('ABSTRACT', 'We propose a decentralized medical trust management system using blockchain-based federated learning for large-scale Internet of Things (IoT) systems. The proposed system enables health institutions to share data without revealing the privacy of data owners. Health institutions form coalitions and the leader of each coalition is elected based on the proposed proof-of-trust collaboration (PoTC) consensus protocol. The PoTC consensus protocol is based on a weight difference game where trust scores, trust consistency value, and trust deviation are factors used for evaluating nodes in the blockchain. The trust of a node is obtained either through direct trust or recommended trust evaluations. Each leader elects an aggregator who has the most credibility to manage the proposed federated learning system. The leaders become the federated clients as well as validators while the aggregator is the federated server. To ensure the decentralization of nodes, a consortium blockchain is employed. Extensive simulations are performed, which show that the proposed system not only demonstrates scalability and credibility without compromising the accuracy, convergence, and resilience properties against malicious attackers but also outperforms existing trust management systems. A security analysis is also conducted, which shows that the proposed system is robust against trust-related attacks.'), \n",
       "        ('DOI', '10.3390/su15010374')],\n",
       "      persons=OrderedCaseInsensitiveDict([('AUTHOR', [Person('Bi, Lirui'), Person('Muazu, Tasiu'), Person('Samuel, Omaji')])]))), \n",
       "    ('electronics12051250', Entry('article',\n",
       "      fields=[\n",
       "        ('TITLE', 'Federated Learning-Based Lightweight Two-Factor Authentication Framework with Privacy Preservation for Mobile Sink in the Social IoMT'), \n",
       "        ('JOURNAL', 'Electronics'), \n",
       "        ('VOLUME', '12'), \n",
       "        ('YEAR', '2023'), \n",
       "        ('NUMBER', '5'), \n",
       "        ('ARTICLE-NUMBER', '1250'), \n",
       "        ('URL', 'https://www.mdpi.com/2079-9292/12/5/1250'), \n",
       "        ('ISSN', '2079-9292'), \n",
       "        ('ABSTRACT', 'The social Internet of Medical Things (S-IoMT) highly demands dependable and non-invasive device identification and authentication and makes data services more prevalent in a reliable learning system. In real time, healthcare systems consistently acquire, analyze, and transform a few operational intelligence into actionable forms through digitization to capture the sensitive information of the patient. Since the S-IoMT tries to distribute health-related services using IoT devices and wireless technologies, protecting the privacy of data and security of the device is so crucial in any eHealth system. To fulfill the design objectives of eHealth, smart sensing technologies use built-in features of social networking services. Despite being more convenient in its potential use, a significant concern is a security preventing potential threats and infringement. Thus, this paper presents a lightweight two-factor authentication framework (L2FAK) with privacy-preserving functionality, which uses a mobile sink for smart eHealth. Formal and informal analyses prove that the proposed L2FAK can resist cyberattacks such as session stealing, message modification, and denial of service, guaranteeing device protection and data integrity. The learning analysis verifies the features of the physical layer using federated learning layered authentication (FLLA) to learn the data characteristics by exploring the learning framework of neural networks. In the evaluation, the core scenario is implemented on the TensorFlow Federated framework to examine FLLA and other relevant mechanisms on two correlated datasets, namely, MNIST and FashionMNIST. The analytical results show that the proposed FLLA can analyze the protection of privacy features effectively in order to guarantee an accuracy ≈89.83% to 93.41% better than other mechanisms. Lastly, a real-time testbed demonstrates the significance of the proposed L2FAK in achieving better quality metrics, such as transmission efficiency and overhead ratio than other state-of-the-art approaches.'), \n",
       "        ('DOI', '10.3390/electronics12051250')],\n",
       "      persons=OrderedCaseInsensitiveDict([('AUTHOR', [Person('Deebak, B. D.'), Person('Hwang, Seong Oun')])]))), \n",
       "    ('electronics12112362', Entry('article',\n",
       "      fields=[\n",
       "        ('TITLE', 'On Dynamic Node Cooperation Strategy Design for Energy Efficiency in Hierarchical Federated Learning'), \n",
       "        ('JOURNAL', 'Electronics'), \n",
       "        ('VOLUME', '12'), \n",
       "        ('YEAR', '2023'), \n",
       "        ('NUMBER', '11'), \n",
       "        ('ARTICLE-NUMBER', '2362'), \n",
       "        ('URL', 'https://www.mdpi.com/2079-9292/12/11/2362'), \n",
       "        ('ISSN', '2079-9292'), \n",
       "        ('ABSTRACT', 'In Hierarchical Federated Learning (HFL), opportunistic communication provides opportunities for node cooperation. In this work, we optimize the node cooperation strategy using opportunistic communization with the objective to minimize energy cost under the delay constraint. We design an online node cooperation strategy (OSRN) based on the optimal stopping theory. Through theoretical analysis, we prove the NP-hardness of the problem investigated and the competition ratio that can be achieved by OSRN. We conduct thorough simulation experiments and find that the proposed algorithm outperforms the random selection algorithm SNNR with 22.04% reduction in energy cost. It is also observed that the energy cost can be reduced by 20.20% and 13.54%, respectively, compared with the existing methods CFL and THF.'), \n",
       "        ('DOI', '10.3390/electronics12112362')],\n",
       "      persons=OrderedCaseInsensitiveDict([('AUTHOR', [Person('Li, Zhuo'), Person('Zou, Sailan'), Person('Chen, Xin')])])))]),\n",
       "\n",
       "  preamble=[])"
      ]
     },
     "execution_count": 15,
     "metadata": {},
     "output_type": "execute_result"
    }
   ],
   "source": [
    "mdpi_bib_data_part1 = parse_file(\"aritcles\\\\bibtex\\\\mdpi\\\\mdpi_articles_part1.bib\")\n",
    "mdpi_bib_data_part1"
   ]
  },
  {
   "cell_type": "code",
   "execution_count": 16,
   "id": "8a6763ea-b0af-483b-9f0f-aec825192641",
   "metadata": {},
   "outputs": [
    {
     "data": {
      "text/plain": [
       "BibliographyData(\n",
       "  entries=OrderedCaseInsensitiveDict([\n",
       "    ('s21051809', Entry('article',\n",
       "      fields=[\n",
       "        ('TITLE', 'Internet of Things: Evolution, Concerns and Security Challenges'), \n",
       "        ('JOURNAL', 'Sensors'), \n",
       "        ('VOLUME', '21'), \n",
       "        ('YEAR', '2021'), \n",
       "        ('NUMBER', '5'), \n",
       "        ('ARTICLE-NUMBER', '1809'), \n",
       "        ('URL', 'https://www.mdpi.com/1424-8220/21/5/1809'), \n",
       "        ('PubMedID', '33807724'), \n",
       "        ('ISSN', '1424-8220'), \n",
       "        ('ABSTRACT', 'The escalated growth of the Internet of Things (IoT) has started to reform and reshape our lives. The deployment of a large number of objects adhered to the internet has unlocked the vision of the smart world around us, thereby paving a road towards automation and humongous data generation and collection. This automation and continuous explosion of personal and professional information to the digital world provides a potent ground to the adversaries to perform numerous cyber-attacks, thus making security in IoT a sizeable concern. Hence, timely detection and prevention of such threats are pre-requisites to prevent serious consequences. The survey conducted provides a brief insight into the technology with prime attention towards the various attacks and anomalies and their detection based on the intelligent intrusion detection system (IDS). The comprehensive look-over presented in this paper provides an in-depth analysis and assessment of diverse machine learning and deep learning-based network intrusion detection system (NIDS). Additionally, a case study of healthcare in IoT is presented. The study depicts the architecture, security, and privacy issues and application of learning paradigms in this sector. The research assessment is finally concluded by listing the results derived from the literature. Additionally, the paper discusses numerous research challenges to allow further rectifications in the approaches to deal with unusual complications.'), \n",
       "        ('DOI', '10.3390/s21051809')],\n",
       "      persons=OrderedCaseInsensitiveDict([('AUTHOR', [Person('Malhotra, Parushi'), Person('Singh, Yashwant'), Person('Anand, Pooja'), Person('Bangotra, Deep Kumar'), Person('Singh, Pradeep Kumar'), Person('Hong, Wei-Chiang')])])))]),\n",
       "\n",
       "  preamble=[])"
      ]
     },
     "execution_count": 16,
     "metadata": {},
     "output_type": "execute_result"
    }
   ],
   "source": [
    "mdpi_bib_data_part2 = parse_file(\"aritcles\\\\bibtex\\\\mdpi\\\\mdpi_articles_part2.bib\")\n",
    "mdpi_bib_data_part2"
   ]
  },
  {
   "cell_type": "markdown",
   "id": "b07b4450-81f1-455c-b912-4aad1bad6097",
   "metadata": {},
   "source": [
    "## Publicações por Períodicos nas Bases de Dados IEEE Xplore e ScienceDirect (Elsevier):"
   ]
  },
  {
   "cell_type": "code",
   "execution_count": 84,
   "id": "28bc2a11-4688-4967-9dd0-f57f0a75df81",
   "metadata": {},
   "outputs": [
    {
     "data": {
      "text/plain": [
       "journaltitle\n",
       "IEEE Internet of Things Journal                                                     390\n",
       "IEEE Transactions on Industrial Informatics                                          73\n",
       "IEEE Access                                                                          58\n",
       "IEEE Transactions on Network Science and Engineering                                 13\n",
       "IEEE Transactions on Network and Service Management                                  12\n",
       "IEEE Transactions on Computational Social Systems                                     8\n",
       "IEEE Journal on Selected Areas in Communications                                      8\n",
       "IEEE Transactions on Mobile Computing                                                 7\n",
       "IEEE Communications Surveys & Tutorials                                               7\n",
       "IEEE Open Journal of the Communications Society                                       7\n",
       "IEEE Transactions on Vehicular Technology                                             6\n",
       "IEEE Transactions on Intelligent Transportation Systems                               6\n",
       "IEEE Transactions on Dependable and Secure Computing                                  5\n",
       "IEEE Journal of Biomedical and Health Informatics                                     4\n",
       "IEEE Sensors Journal                                                                  4\n",
       "IEEE Transactions on Green Communications and Networking                              4\n",
       "IEEE Open Journal of the Computer Society                                             3\n",
       "IEEE Transactions on Computer-Aided Design of Integrated Circuits and Systems         3\n",
       "IEEE Transactions on Cognitive Communications and Networking                          3\n",
       "IEEE Transactions on Parallel and Distributed Systems                                 3\n",
       "IEEE Transactions on Emerging Topics in Computing                                     3\n",
       "IEEE Transactions on Services Computing                                               2\n",
       "IEEE Transactions on Machine Learning in Communications and Networking                2\n",
       "IEEE Journal of Selected Topics in Signal Processing                                  2\n",
       "IEEE Communications Letters                                                           2\n",
       "IEEE Wireless Communications Letters                                                  2\n",
       "IEEE Transactions on Computers                                                        2\n",
       "IEEE Transactions on Emerging Topics in Computational Intelligence                    1\n",
       "IEEE Transactions on Communications                                                   1\n",
       "IEEE Journal of Radio Frequency Identification                                        1\n",
       "IEEE Embedded Systems Letters                                                         1\n",
       "IEEE Transactions on Neural Networks and Learning Systems                             1\n",
       "IEEE Networking Letters                                                               1\n",
       "IEEE Transactions on Wireless Communications                                          1\n",
       "IEEE Journal of Selected Topics in Applied Earth Observations and Remote Sensing      1\n",
       "Proceedings of the IEEE                                                               1\n",
       "IEEE Transactions on Knowledge and Data Engineering                                   1\n",
       "IEEE Transactions on Signal Processing                                                1\n",
       "IEEE Journal on Emerging and Selected Topics in Circuits and Systems                  1\n",
       "IEEE Transactions on Artificial Intelligence                                          1\n",
       "IEEE Transactions on Smart Grid                                                       1\n",
       "IEEE Transactions on Instrumentation and Measurement                                  1\n",
       "Name: count, dtype: int64"
      ]
     },
     "execution_count": 84,
     "metadata": {},
     "output_type": "execute_result"
    }
   ],
   "source": [
    "from pybtex.plugin import find_plugin\n",
    "from pybtex.database import parse_string\n",
    "from pybtex.database import parse_file\n",
    "bib_data = parse_file('IEEE LIBRARY SELECTION 2019 -2024.bib')\n",
    "\n",
    "\n",
    "\n",
    "#df = pd.DataFrame.from_dict(bib_data.entries.values())\n",
    "#df\n",
    "#for k, v in bib_data.entries.items():\n",
    "#    print(k,v.fields,en\n",
    "ieee_database_articles = list()\n",
    "bib_data_entries = bib_data.entries\n",
    "bib_data_entries = list(bib_data_entries.values())\n",
    "for entry in bib_data_entries:\n",
    "    ieee_database_articles.append(entry.fields)\n",
    "df_articles = pd.DataFrame()\n",
    "for field in ieee_database_articles:\n",
    "    df_field = pd.DataFrame([field])\n",
    "    df_articles = pd.concat([df_articles, df_field], ignore_index=True)\n",
    "\n",
    "\n"
   ]
  },
  {
   "cell_type": "code",
   "execution_count": 93,
   "id": "1da741cc-e477-475a-b6ba-2563cfade7d5",
   "metadata": {},
   "outputs": [],
   "source": [
    "df_periodics = df_articles.sort_values(by=\"journaltitle\", ascending=True)\n",
    "df_periodics = df_periodics.value_counts(\"journaltitle\")\n",
    "df_periodics = df_periodics[:5]"
   ]
  },
  {
   "cell_type": "code",
   "execution_count": 105,
   "id": "71cd326b-573e-4b3a-9994-7d06d96a0710",
   "metadata": {},
   "outputs": [
    {
     "data": {
      "image/png": "[encoded data removed]",
      "text/plain": [
       "<Figure size 640x480 with 1 Axes>"
      ]
     },
     "metadata": {},
     "output_type": "display_data"
    }
   ],
   "source": [
    "plt.figure();\n",
    "plt.ylabel(\"Título do Periódico\");\n",
    "df_periodics.plot.barh(color=\"b\");"
   ]
  },
  {
   "cell_type": "code",
   "execution_count": 5,
   "id": "62a68e32-259e-438e-8b51-90948bb3182f",
   "metadata": {},
   "outputs": [],
   "source": [
    "def count_journal_titles(journal_titles):\n",
    "    unique_journals = set()\n",
    "    journal_titles_frequency = dict()\n",
    "    for journal in journal_titles:\n",
    "        if journal not in uniquee_journals:\n",
    "            unique_journals.add(journal)\n",
    "            quantity = calculate_number_of_journal_title(journal, journal_titles)\n",
    "            journal_title_frequency[journal] = quantity\n",
    "    return journal_titles_frequency           "
   ]
  },
  {
   "cell_type": "code",
   "execution_count": 7,
   "id": "4f7eb524-2e13-4728-a83c-cbae81807496",
   "metadata": {},
   "outputs": [],
   "source": [
    "def calculate_number_of_journal_title(journal_title, journal_title_list):\n",
    "    count = 0\n",
    "    for journal in journal_title_list:\n",
    "        if journal == journal_title:\n",
    "            count+=1\n",
    "\n",
    "    return count"
   ]
  },
  {
   "cell_type": "code",
   "execution_count": null,
   "id": "b856ca1c-925e-4e48-acc8-41c39406fe4c",
   "metadata": {},
   "outputs": [],
   "source": []
  },
  {
   "cell_type": "markdown",
   "id": "40ca2a02-11e3-4692-bc90-0c07f4bc0d7e",
   "metadata": {},
   "source": [
    "## Total de publicações por ano nas Bases de Dados IEEE Xplore e ScienceDirect"
   ]
  },
  {
   "cell_type": "code",
   "execution_count": 25,
   "id": "285b3542-15ba-4144-8443-dbd99b46e1b7",
   "metadata": {},
   "outputs": [
    {
     "data": {
      "image/png": "[encoded data removed]",
      "text/plain": [
       "<Figure size 640x480 with 1 Axes>"
      ]
     },
     "metadata": {},
     "output_type": "display_data"
    }
   ],
   "source": [
    "\n",
    "\n",
    "publication_counts_ieee = {2019: 1, 2020: 22, 2021: 68, 2022: 119, 2023: 189, 2024: 86}\n",
    "publication_counts_sciencedirect= {2019: 0, 2020: 1, 2021: 14, 2022: 35, 2023: 57, 2024: 30}\n",
    "\n",
    "\n",
    "years = sorted(publication_counts_ieee.keys())\n",
    "counts_ieee = [publication_counts_ieee[year] for year in years]\n",
    "counts_sciencedirect = [publication_counts_sciencedirect[year] for year in years]\n",
    "\n",
    "\n",
    "bar_width = 0.35\n",
    "\n",
    "\n",
    "plt.bar(np.array(years) - bar_width/2, counts_ieee, bar_width, color='skyblue', label='IEEE Xplore')\n",
    "plt.bar(np.array(years) + bar_width/2, counts_sciencedirect, bar_width, color='orange', label='ScienceDirect', alpha=0.7)\n",
    "plt.xlabel('Ano')\n",
    "plt.ylabel('Publicações')\n",
    "plt.title('Publicações por ano (2019-2024)')\n",
    "plt.xticks(years) \n",
    "plt.legend()  \n",
    "plt.grid(axis='y', linestyle='--', alpha=0.7)  \n",
    "\n",
    "plt.savefig('publications_per_year.png', dpi=80)\n",
    "plt.show()\n"
   ]
  },
  {
   "cell_type": "code",
   "execution_count": null,
   "id": "47cf1d20-e984-4a68-87e0-65c383c0b2e2",
   "metadata": {},
   "outputs": [],
   "source": []
  },
  {
   "cell_type": "code",
   "execution_count": null,
   "id": "d3916505-c34b-4821-a4ff-665a5ed889f9",
   "metadata": {},
   "outputs": [],
   "source": []
  }
 ],
 "metadata": {
  "kernelspec": {
   "display_name": "Python 3 (ipykernel)",
   "language": "python",
   "name": "python3"
  },
  "language_info": {
   "codemirror_mode": {
    "name": "ipython",
    "version": 3
   },
   "file_extension": ".py",
   "mimetype": "text/x-python",
   "name": "python",
   "nbconvert_exporter": "python",
   "pygments_lexer": "ipython3",
   "version": "3.12.1"
  }
 },
 "nbformat": 4,
 "nbformat_minor": 5
}

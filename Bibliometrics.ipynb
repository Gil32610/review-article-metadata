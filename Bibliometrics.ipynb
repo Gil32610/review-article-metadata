{
 "cells": [
  {
   "cell_type": "code",
   "execution_count": 2,
   "id": "5e7e05b1-9e26-4b3e-8cf7-2c335354fae4",
   "metadata": {},
   "outputs": [],
   "source": [
    "import numpy as np\n",
    "import matplotlib.pyplot as plt\n",
    "import pandas as pd\n",
    "import pybtex"
   ]
  },
  {
   "cell_type": "markdown",
   "id": "b07b4450-81f1-455c-b912-4aad1bad6097",
   "metadata": {},
   "source": [
    "## Publicações por Períodicos nas Bases de Dados IEEE Xplore e ScienceDirect (Elsevier):"
   ]
  },
  {
   "cell_type": "code",
   "execution_count": 1,
   "id": "28bc2a11-4688-4967-9dd0-f57f0a75df81",
   "metadata": {},
   "outputs": [
    {
     "ename": "ModuleNotFoundError",
     "evalue": "No module named 'pkg_resources'",
     "output_type": "error",
     "traceback": [
      "\u001b[1;31m---------------------------------------------------------------------------\u001b[0m",
      "\u001b[1;31mModuleNotFoundError\u001b[0m                       Traceback (most recent call last)",
      "Cell \u001b[1;32mIn[1], line 1\u001b[0m\n\u001b[1;32m----> 1\u001b[0m \u001b[38;5;28;01mfrom\u001b[39;00m \u001b[38;5;21;01mpybtex\u001b[39;00m\u001b[38;5;21;01m.\u001b[39;00m\u001b[38;5;21;01mplugin\u001b[39;00m \u001b[38;5;28;01mimport\u001b[39;00m find_plugin\n\u001b[0;32m      2\u001b[0m \u001b[38;5;28;01mfrom\u001b[39;00m \u001b[38;5;21;01mpybtex\u001b[39;00m\u001b[38;5;21;01m.\u001b[39;00m\u001b[38;5;21;01mdatabase\u001b[39;00m \u001b[38;5;28;01mimport\u001b[39;00m parse_string\n\u001b[0;32m      3\u001b[0m APA \u001b[38;5;241m=\u001b[39m find_plugin(\u001b[38;5;124m'\u001b[39m\u001b[38;5;124mpybtex.style.formatting\u001b[39m\u001b[38;5;124m'\u001b[39m, \u001b[38;5;124m'\u001b[39m\u001b[38;5;124mapa\u001b[39m\u001b[38;5;124m'\u001b[39m)()\n",
      "File \u001b[1;32mD:\\STUDY\\MachineLearning\\research_metadata\\venv\\Lib\\site-packages\\pybtex\\plugin\\__init__.py:26\u001b[0m\n\u001b[0;32m      2\u001b[0m \u001b[38;5;66;03m# Copyright (c) 2006-2021  Andrey Golovizin\u001b[39;00m\n\u001b[0;32m      3\u001b[0m \u001b[38;5;66;03m# Copyright (c) 2014  Matthias C. M. Troffaes\u001b[39;00m\n\u001b[0;32m      4\u001b[0m \u001b[38;5;66;03m#\u001b[39;00m\n\u001b[1;32m   (...)\u001b[0m\n\u001b[0;32m     21\u001b[0m \u001b[38;5;66;03m# TORT OR OTHERWISE, ARISING FROM, OUT OF OR IN CONNECTION WITH THE\u001b[39;00m\n\u001b[0;32m     22\u001b[0m \u001b[38;5;66;03m# SOFTWARE OR THE USE OR OTHER DEALINGS IN THE SOFTWARE.\u001b[39;00m\n\u001b[0;32m     25\u001b[0m \u001b[38;5;28;01mimport\u001b[39;00m \u001b[38;5;21;01mos\u001b[39;00m\u001b[38;5;21;01m.\u001b[39;00m\u001b[38;5;21;01mpath\u001b[39;00m  \u001b[38;5;66;03m# splitext\u001b[39;00m\n\u001b[1;32m---> 26\u001b[0m \u001b[38;5;28;01mimport\u001b[39;00m \u001b[38;5;21;01mpkg_resources\u001b[39;00m\n\u001b[0;32m     28\u001b[0m \u001b[38;5;28;01mfrom\u001b[39;00m \u001b[38;5;21;01mpybtex\u001b[39;00m\u001b[38;5;21;01m.\u001b[39;00m\u001b[38;5;21;01mexceptions\u001b[39;00m \u001b[38;5;28;01mimport\u001b[39;00m PybtexError\n\u001b[0;32m     31\u001b[0m \u001b[38;5;28;01mclass\u001b[39;00m \u001b[38;5;21;01mPlugin\u001b[39;00m(\u001b[38;5;28mobject\u001b[39m):\n",
      "\u001b[1;31mModuleNotFoundError\u001b[0m: No module named 'pkg_resources'"
     ]
    }
   ],
   "source": [
    "from pybtex.plugin import find_plugin\n",
    "from pybtex.database import parse_string\n",
    "APA = find_plugin('pybtex.style.formatting', 'apa')()\n",
    "HTML = find_plugin('pybtex.backends', 'html')()\n",
    "\n",
    "def bib2html(bibliography, exclude_fields=None):\n",
    "    exclude_fields = exclude_fields or []\n",
    "    if exclude_fields:\n",
    "        bibliography = parse_string(bibliography.to_string('bibtex'), 'bibtex')\n",
    "        for entry in bibliography.entries.values():\n",
    "            for ef in exclude_fields:\n",
    "                if ef in entry.fields.__dict__['_dict']:\n",
    "                    del entry.fields.__dict__['_dict'][ef]\n",
    "    formattedBib = APA.format_bibliography(bibliography)\n",
    "    return \"<br>\".join(entry.text.render(HTML) for entry in formattedBib)\n",
    "\n"
   ]
  },
  {
   "cell_type": "code",
   "execution_count": 5,
   "id": "62a68e32-259e-438e-8b51-90948bb3182f",
   "metadata": {},
   "outputs": [],
   "source": [
    "def count_journal_titles(journal_titles):\n",
    "    unique_journals = set()\n",
    "    journal_titles_frequency = dict()\n",
    "    for journal in journal_titles:\n",
    "        if journal not in uniquee_journals:\n",
    "            unique_journals.add(journal)\n",
    "            quantity = calculate_number_of_journal_title(journal, journal_titles)\n",
    "            journal_title_frequency[journal] = quantity\n",
    "    return journal_titles_frequency           "
   ]
  },
  {
   "cell_type": "code",
   "execution_count": 7,
   "id": "4f7eb524-2e13-4728-a83c-cbae81807496",
   "metadata": {},
   "outputs": [],
   "source": [
    "def calculate_number_of_journal_title(journal_title, journal_title_list):\n",
    "    count = 0\n",
    "    for journal in journal_title_list:\n",
    "        if journal == journal_title:\n",
    "            count+=1\n",
    "\n",
    "    return count"
   ]
  },
  {
   "cell_type": "code",
   "execution_count": 8,
   "id": "b856ca1c-925e-4e48-acc8-41c39406fe4c",
   "metadata": {},
   "outputs": [
    {
     "ename": "UnicodeDecodeError",
     "evalue": "'charmap' codec can't decode byte 0x9d in position 2559: character maps to <undefined>",
     "output_type": "error",
     "traceback": [
      "\u001b[1;31m---------------------------------------------------------------------------\u001b[0m",
      "\u001b[1;31mUnicodeDecodeError\u001b[0m                        Traceback (most recent call last)",
      "Cell \u001b[1;32mIn[8], line 2\u001b[0m\n\u001b[0;32m      1\u001b[0m file_path \u001b[38;5;241m=\u001b[39m \u001b[38;5;124m\"\u001b[39m\u001b[38;5;124mIEEE LIBRARY SELECTION 2019 -2024.bib\u001b[39m\u001b[38;5;124m\"\u001b[39m\n\u001b[1;32m----> 2\u001b[0m journal_titles \u001b[38;5;241m=\u001b[39m \u001b[43mextract_journal_titles\u001b[49m\u001b[43m(\u001b[49m\u001b[43mfile_path\u001b[49m\u001b[43m)\u001b[49m\n",
      "Cell \u001b[1;32mIn[4], line 7\u001b[0m, in \u001b[0;36mextract_journal_titles\u001b[1;34m(file_path)\u001b[0m\n\u001b[0;32m      4\u001b[0m \u001b[38;5;66;03m# Open the BibTeX file\u001b[39;00m\n\u001b[0;32m      5\u001b[0m \u001b[38;5;28;01mwith\u001b[39;00m \u001b[38;5;28mopen\u001b[39m(file_path, \u001b[38;5;124m'\u001b[39m\u001b[38;5;124mr\u001b[39m\u001b[38;5;124m'\u001b[39m) \u001b[38;5;28;01mas\u001b[39;00m file:\n\u001b[0;32m      6\u001b[0m     \u001b[38;5;66;03m# Read each line of the file\u001b[39;00m\n\u001b[1;32m----> 7\u001b[0m \u001b[43m    \u001b[49m\u001b[38;5;28;43;01mfor\u001b[39;49;00m\u001b[43m \u001b[49m\u001b[43mline\u001b[49m\u001b[43m \u001b[49m\u001b[38;5;129;43;01min\u001b[39;49;00m\u001b[43m \u001b[49m\u001b[43mfile\u001b[49m\u001b[43m:\u001b[49m\n\u001b[0;32m      8\u001b[0m \u001b[43m        \u001b[49m\u001b[38;5;66;43;03m# Check if the line contains the journal title field\u001b[39;49;00m\n\u001b[0;32m      9\u001b[0m \u001b[43m        \u001b[49m\u001b[38;5;28;43;01mif\u001b[39;49;00m\u001b[43m \u001b[49m\u001b[43mline\u001b[49m\u001b[38;5;241;43m.\u001b[39;49m\u001b[43mstartswith\u001b[49m\u001b[43m(\u001b[49m\u001b[38;5;124;43m'\u001b[39;49m\u001b[38;5;124;43mjournal = \u001b[39;49m\u001b[38;5;124;43m{\u001b[39;49m\u001b[38;5;124;43m'\u001b[39;49m\u001b[43m)\u001b[49m\u001b[43m:\u001b[49m\n\u001b[0;32m     10\u001b[0m \u001b[43m            \u001b[49m\u001b[38;5;66;43;03m# Extract the journal title value\u001b[39;49;00m\n\u001b[0;32m     11\u001b[0m \u001b[43m            \u001b[49m\u001b[43mjournal_title\u001b[49m\u001b[43m \u001b[49m\u001b[38;5;241;43m=\u001b[39;49m\u001b[43m \u001b[49m\u001b[43mline\u001b[49m\u001b[38;5;241;43m.\u001b[39;49m\u001b[43msplit\u001b[49m\u001b[43m(\u001b[49m\u001b[38;5;124;43m'\u001b[39;49m\u001b[38;5;124;43m = \u001b[39;49m\u001b[38;5;124;43m{\u001b[39;49m\u001b[38;5;124;43m'\u001b[39;49m\u001b[43m)\u001b[49m\u001b[43m[\u001b[49m\u001b[38;5;241;43m1\u001b[39;49m\u001b[43m]\u001b[49m\u001b[38;5;241;43m.\u001b[39;49m\u001b[43mrstrip\u001b[49m\u001b[43m(\u001b[49m\u001b[38;5;124;43m'\u001b[39;49m\u001b[38;5;124;43m},\u001b[39;49m\u001b[38;5;130;43;01m\\n\u001b[39;49;00m\u001b[38;5;124;43m'\u001b[39;49m\u001b[43m)\u001b[49m\n",
      "File \u001b[1;32m~\\AppData\\Local\\Programs\\Python\\Python312\\Lib\\encodings\\cp1252.py:23\u001b[0m, in \u001b[0;36mIncrementalDecoder.decode\u001b[1;34m(self, input, final)\u001b[0m\n\u001b[0;32m     22\u001b[0m \u001b[38;5;28;01mdef\u001b[39;00m \u001b[38;5;21mdecode\u001b[39m(\u001b[38;5;28mself\u001b[39m, \u001b[38;5;28minput\u001b[39m, final\u001b[38;5;241m=\u001b[39m\u001b[38;5;28;01mFalse\u001b[39;00m):\n\u001b[1;32m---> 23\u001b[0m     \u001b[38;5;28;01mreturn\u001b[39;00m \u001b[43mcodecs\u001b[49m\u001b[38;5;241;43m.\u001b[39;49m\u001b[43mcharmap_decode\u001b[49m\u001b[43m(\u001b[49m\u001b[38;5;28;43minput\u001b[39;49m\u001b[43m,\u001b[49m\u001b[38;5;28;43mself\u001b[39;49m\u001b[38;5;241;43m.\u001b[39;49m\u001b[43merrors\u001b[49m\u001b[43m,\u001b[49m\u001b[43mdecoding_table\u001b[49m\u001b[43m)\u001b[49m[\u001b[38;5;241m0\u001b[39m]\n",
      "\u001b[1;31mUnicodeDecodeError\u001b[0m: 'charmap' codec can't decode byte 0x9d in position 2559: character maps to <undefined>"
     ]
    }
   ],
   "source": [
    "file_path = \"IEEE LIBRARY SELECTION 2019 -2024.bib\"\n",
    "journal_titles = extract_journal_titles(file_path)"
   ]
  },
  {
   "cell_type": "markdown",
   "id": "40ca2a02-11e3-4692-bc90-0c07f4bc0d7e",
   "metadata": {},
   "source": [
    "## Total de publicações por ano nas Bases de Dados IEEE Xplore e ScienceDirect"
   ]
  },
  {
   "cell_type": "code",
   "execution_count": 3,
   "id": "285b3542-15ba-4144-8443-dbd99b46e1b7",
   "metadata": {},
   "outputs": [
    {
     "ename": "UFuncTypeError",
     "evalue": "ufunc 'subtract' did not contain a loop with signature matching types (dtype('<U4'), dtype('float64')) -> None",
     "output_type": "error",
     "traceback": [
      "\u001b[1;31m---------------------------------------------------------------------------\u001b[0m",
      "\u001b[1;31mUFuncTypeError\u001b[0m                            Traceback (most recent call last)",
      "Cell \u001b[1;32mIn[3], line 13\u001b[0m\n\u001b[0;32m      7\u001b[0m counts_sciencedirect \u001b[38;5;241m=\u001b[39m [publication_counts_sciencedirect[year] \u001b[38;5;28;01mfor\u001b[39;00m year \u001b[38;5;129;01min\u001b[39;00m years]\n\u001b[0;32m     10\u001b[0m bar_width \u001b[38;5;241m=\u001b[39m \u001b[38;5;241m0.35\u001b[39m\n\u001b[1;32m---> 13\u001b[0m plt\u001b[38;5;241m.\u001b[39mbar(\u001b[43mnp\u001b[49m\u001b[38;5;241;43m.\u001b[39;49m\u001b[43marray\u001b[49m\u001b[43m(\u001b[49m\u001b[43myears\u001b[49m\u001b[43m)\u001b[49m\u001b[43m \u001b[49m\u001b[38;5;241;43m-\u001b[39;49m\u001b[43m \u001b[49m\u001b[43mbar_width\u001b[49m\u001b[38;5;241;43m/\u001b[39;49m\u001b[38;5;241;43m2\u001b[39;49m, counts_ieee, bar_width, color\u001b[38;5;241m=\u001b[39m\u001b[38;5;124m'\u001b[39m\u001b[38;5;124mskyblue\u001b[39m\u001b[38;5;124m'\u001b[39m, label\u001b[38;5;241m=\u001b[39m\u001b[38;5;124m'\u001b[39m\u001b[38;5;124mIEEE Xplore\u001b[39m\u001b[38;5;124m'\u001b[39m)\n\u001b[0;32m     14\u001b[0m plt\u001b[38;5;241m.\u001b[39mbar(np\u001b[38;5;241m.\u001b[39marray(years) \u001b[38;5;241m+\u001b[39m bar_width\u001b[38;5;241m/\u001b[39m\u001b[38;5;241m2\u001b[39m, counts_sciencedirect, bar_width, color\u001b[38;5;241m=\u001b[39m\u001b[38;5;124m'\u001b[39m\u001b[38;5;124morange\u001b[39m\u001b[38;5;124m'\u001b[39m, label\u001b[38;5;241m=\u001b[39m\u001b[38;5;124m'\u001b[39m\u001b[38;5;124mScienceDirect\u001b[39m\u001b[38;5;124m'\u001b[39m, alpha\u001b[38;5;241m=\u001b[39m\u001b[38;5;241m0.7\u001b[39m)\n\u001b[0;32m     15\u001b[0m plt\u001b[38;5;241m.\u001b[39mxlabel(\u001b[38;5;124m'\u001b[39m\u001b[38;5;124mAno\u001b[39m\u001b[38;5;124m'\u001b[39m)\n",
      "\u001b[1;31mUFuncTypeError\u001b[0m: ufunc 'subtract' did not contain a loop with signature matching types (dtype('<U4'), dtype('float64')) -> None"
     ]
    }
   ],
   "source": [
    "\n",
    "\n",
    "publication_counts_ieee = {2019: 1, 2020: 22, 2021: 68, 2022: 119, 2023: 189, 2024: 86}\n",
    "publication_counts_sciencedirect= {2019: 0, 2020: 1, 2021: 14, 2022: 35, 2023: 57, 2024: 30}\n",
    "\n",
    "\n",
    "years = sorted(publication_counts_ieee.keys())\n",
    "counts_ieee = [publication_counts_ieee[year] for year in years]\n",
    "counts_sciencedirect = [publication_counts_sciencedirect[year] for year in years]\n",
    "\n",
    "\n",
    "bar_width = 0.35\n",
    "\n",
    "\n",
    "plt.bar(np.array(years) - bar_width/2, counts_ieee, bar_width, color='skyblue', label='IEEE Xplore')\n",
    "plt.bar(np.array(years) + bar_width/2, counts_sciencedirect, bar_width, color='orange', label='ScienceDirect', alpha=0.7)\n",
    "plt.xlabel('Ano')\n",
    "plt.ylabel('Publicações')\n",
    "plt.title('Publicações por ano (2019-2024)')\n",
    "plt.xticks(years) \n",
    "plt.legend()  \n",
    "plt.grid(axis='y', linestyle='--', alpha=0.7)  \n",
    "\n",
    "plt.savefig('publications_per_year.png', dpi=80)\n",
    "plt.show()\n"
   ]
  },
  {
   "cell_type": "code",
   "execution_count": null,
   "id": "47cf1d20-e984-4a68-87e0-65c383c0b2e2",
   "metadata": {},
   "outputs": [],
   "source": []
  },
  {
   "cell_type": "code",
   "execution_count": null,
   "id": "d3916505-c34b-4821-a4ff-665a5ed889f9",
   "metadata": {},
   "outputs": [],
   "source": []
  }
 ],
 "metadata": {
  "kernelspec": {
   "display_name": "Python 3 (ipykernel)",
   "language": "python",
   "name": "python3"
  },
  "language_info": {
   "codemirror_mode": {
    "name": "ipython",
    "version": 3
   },
   "file_extension": ".py",
   "mimetype": "text/x-python",
   "name": "python",
   "nbconvert_exporter": "python",
   "pygments_lexer": "ipython3",
   "version": "3.12.1"
  }
 },
 "nbformat": 4,
 "nbformat_minor": 5
}
